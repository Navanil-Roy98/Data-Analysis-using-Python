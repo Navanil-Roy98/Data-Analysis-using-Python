{
 "cells": [
  {
   "cell_type": "code",
   "execution_count": null,
   "metadata": {},
   "outputs": [],
   "source": [
    "print(\"Hello\") # this is a comment line"
   ]
  },
  {
   "cell_type": "code",
   "execution_count": null,
   "metadata": {},
   "outputs": [],
   "source": [
    "'''This is a multiline comment\n",
    "block\n",
    "''' "
   ]
  },
  {
   "cell_type": "code",
   "execution_count": null,
   "metadata": {},
   "outputs": [],
   "source": [
    "'''\n",
    "hi i am\n",
    "navanil'''"
   ]
  },
  {
   "cell_type": "code",
   "execution_count": null,
   "metadata": {},
   "outputs": [],
   "source": [
    "i = 1"
   ]
  },
  {
   "cell_type": "code",
   "execution_count": null,
   "metadata": {},
   "outputs": [],
   "source": [
    "for i in range(0,10):\n",
    "    print (i)\n",
    "    "
   ]
  },
  {
   "cell_type": "code",
   "execution_count": null,
   "metadata": {},
   "outputs": [],
   "source": [
    "print(\"Hello\")\n",
    "print(\"World\");"
   ]
  },
  {
   "cell_type": "code",
   "execution_count": null,
   "metadata": {},
   "outputs": [],
   "source": [
    "print(\"Hello \" * 5)\n",
    "print(\"World\")"
   ]
  },
  {
   "cell_type": "code",
   "execution_count": null,
   "metadata": {},
   "outputs": [],
   "source": [
    "a = int(input(\"Enter a no:\"))"
   ]
  },
  {
   "cell_type": "code",
   "execution_count": null,
   "metadata": {},
   "outputs": [],
   "source": [
    "print(a)"
   ]
  },
  {
   "cell_type": "code",
   "execution_count": null,
   "metadata": {},
   "outputs": [],
   "source": [
    "emp_name = input(\"Enter a name:\")\n",
    "emp_surname = input(\"Enter surname name\")\n",
    "print(\"The employee name is \",\\\n",
    "      emp_name+ \" \" +\\\n",
    "      emp_surname)\n"
   ]
  },
  {
   "cell_type": "code",
   "execution_count": null,
   "metadata": {},
   "outputs": [],
   "source": [
    "a = 10\n",
    "b = 40"
   ]
  },
  {
   "cell_type": "code",
   "execution_count": null,
   "metadata": {},
   "outputs": [],
   "source": [
    "print(a,b)"
   ]
  },
  {
   "cell_type": "code",
   "execution_count": null,
   "metadata": {},
   "outputs": [],
   "source": [
    "c = 100\n",
    "d = 85"
   ]
  },
  {
   "cell_type": "code",
   "execution_count": null,
   "metadata": {},
   "outputs": [],
   "source": [
    "print(c,d)"
   ]
  },
  {
   "cell_type": "code",
   "execution_count": null,
   "metadata": {},
   "outputs": [],
   "source": [
    "a = int(input(\"Enter the first number -->\"))\n",
    "b = int(input(\"Enter second number -->\"))\n",
    "sum = a + b\n",
    "print(sum)"
   ]
  },
  {
   "cell_type": "code",
   "execution_count": null,
   "metadata": {},
   "outputs": [],
   "source": [
    "a = input(\"Enter the first number -->\")\n",
    "b = input(\"Enter second number -->\")\n",
    "sum = int(a) + int(b)\n",
    "print(sum)"
   ]
  },
  {
   "cell_type": "code",
   "execution_count": null,
   "metadata": {},
   "outputs": [],
   "source": [
    "a = int(input(\"Enter the first number -->\"))\n",
    "b = int(input(\"Enter second number -->\"))\n",
    "sum = a + b\n",
    "print(\"Num1 = \",a,\",Num2 = \",b,\"and Total = \",sum)"
   ]
  },
  {
   "cell_type": "code",
   "execution_count": null,
   "metadata": {},
   "outputs": [],
   "source": [
    "a = int(input(\"Enter the first number -->\"))\n",
    "b = int(input(\"Enter second number -->\"))\n",
    "sum = a + b\n",
    "print(\"Sum of {} and {} is {}\".format(a,b,sum))\n",
    "print(\"Sum of %d and %d is %d\"%(a,b,sum))\n",
    "print(\"Sum of {0} and {1} is {2}\".format(a,b,sum))\n",
    "print(\"Sum of {2} and {1} is {0}\".format(sum,b,a))\n",
    "print(\"Sum of {x} and {y} is {z}\".format(x=a,y=b,z=sum))"
   ]
  },
  {
   "cell_type": "code",
   "execution_count": null,
   "metadata": {},
   "outputs": [],
   "source": [
    "x = 100\n",
    "y = 200"
   ]
  },
  {
   "cell_type": "code",
   "execution_count": null,
   "metadata": {},
   "outputs": [],
   "source": [
    "print(x,y)"
   ]
  },
  {
   "cell_type": "code",
   "execution_count": null,
   "metadata": {},
   "outputs": [],
   "source": [
    "x = 500\n",
    "y = 500"
   ]
  },
  {
   "cell_type": "code",
   "execution_count": null,
   "metadata": {},
   "outputs": [],
   "source": [
    "a = 101\n",
    "b = 50\n",
    "print(\"a+b=\",a+b)\n",
    "print(\"a-b=\",a-b)\n",
    "print(\"a*b=\",a*b)\n",
    "print(\"a/b=\",a/b)\n",
    "print(\"a//b=\",a//b)\n",
    "print(\"a%b=\",a%b)\n",
    "print(\"a**b=\",a**b)"
   ]
  },
  {
   "cell_type": "code",
   "execution_count": null,
   "metadata": {},
   "outputs": [],
   "source": [
    "num1 = int(input(\"Enter the first number -->\"))\n",
    "num2 = int(input(\"Enter second number -->\"))\n",
    "if (num1 > num2):\n",
    "     print(\"The first number is maximum...\")\n",
    "     print(num1)\n",
    "elif(num1 < num2):\n",
    "    print(\"The second number is maximum...\")\n",
    "    print(num2)\n",
    "else:\n",
    "    print(\"Both are same\")\n",
    "    print(num1,num2)\n",
    "print(\"End of program\")\n",
    "    "
   ]
  },
  {
   "cell_type": "code",
   "execution_count": null,
   "metadata": {},
   "outputs": [],
   "source": [
    "#take two integers from keyboard as input display menu\n",
    "'''-> Addition\n",
    "-> Substraction\n",
    "-> Multiplication\n",
    "->Division\n",
    "-> Remainder\n",
    "integer division\n",
    "exponentiation\n",
    "exit\n",
    "'''"
   ]
  },
  {
   "cell_type": "code",
   "execution_count": null,
   "metadata": {},
   "outputs": [],
   "source": [
    "print(\"1.Addition\")\n",
    "print(\"2.Subtraction\")\n",
    "print(\"3.Multiplication\")\n",
    "print(\"4.Division\")\n",
    "print(\"5.Remainder\")\n",
    "print(\"6.Integer Division\")\n",
    "print(\"7.Exponentiation\")\n",
    "print(\"0.Exit\")"
   ]
  },
  {
   "cell_type": "code",
   "execution_count": null,
   "metadata": {},
   "outputs": [],
   "source": [
    "var = 1\n",
    "while(var == 1):\n",
    "\n",
    "    a = int(input(\"Enter the first number -->\"))\n",
    "    b = int(input(\"Enter second number -->\"))\n",
    "    print(\"1.Addition\")\n",
    "    print(\"2.Subtraction\")\n",
    "    print(\"3.Multiplication\")\n",
    "    print(\"4.Division\")\n",
    "    print(\"5.Remainder\")\n",
    "    print(\"6.Integer Division\")\n",
    "    print(\"7.Exponentiation\")\n",
    "    print(\"0.Exit\")\n",
    "    ch = int(input(\"Enter choice\"))\n",
    "    if(ch == 1):\n",
    "        print(\"Sum of\",a,\"and\",b,\"is\",a+b)\n",
    "    elif(ch == 2):\n",
    "        print(\"Subtration of\",a,\"and\",b,\"is\",a-b)\n",
    "    elif(ch == 3):\n",
    "        print(\"Multiplication of\",a,\"and\",b,\"is\",a*b)\n",
    "    elif(ch == 4):\n",
    "        if(b != 0):\n",
    "            print(\"Division of\",a,\"and\",b,\"is\",a/b)\n",
    "        else:\n",
    "            print(\"Wrong input\")\n",
    "    elif(ch == 5):\n",
    "        if(b != 0):\n",
    "            print(\"Remainder of\",a,\"and\",b,\"is\",a%b)\n",
    "        else:\n",
    "            print(\"Wrong input\")\n",
    "\n",
    "    elif(ch == 6):\n",
    "        if(b != 0):\n",
    "            print(\"Integer division of\",a,\"and\",b,\"is\",a//b)\n",
    "        else:\n",
    "            print(\"Wrong Input\")\n",
    "    elif(ch == 7):\n",
    "        print(\"Exponentiation of\",a,\"and\",b,\"is\",a**b)\n",
    "    elif(ch == 0):\n",
    "        break;\n",
    "    else:\n",
    "        print(\"Wrong choice\")"
   ]
  },
  {
   "cell_type": "code",
   "execution_count": null,
   "metadata": {},
   "outputs": [],
   "source": [
    "#LOOPING 2ND CLASS "
   ]
  },
  {
   "cell_type": "code",
   "execution_count": null,
   "metadata": {},
   "outputs": [],
   "source": [
    "i = 1\n",
    "while(i <= 5):\n",
    "    print(\"Executing for i = {}\".format(i))\n",
    "    i+=1\n",
    "print(\"End of the program...\")"
   ]
  },
  {
   "cell_type": "code",
   "execution_count": null,
   "metadata": {},
   "outputs": [],
   "source": [
    "i = 1\n",
    "while(i <= 5):\n",
    "    print(\"India \"*i)\n",
    "    i+=1\n"
   ]
  },
  {
   "cell_type": "code",
   "execution_count": null,
   "metadata": {},
   "outputs": [],
   "source": [
    "n = int(input(\"Enter the no of lines:\"))\n",
    "i = 1\n",
    "while(i <= n):\n",
    "    print(\" \"*(n-i),end=\"\")\n",
    "    print(\"*\"*(2*i - 1),end = \"\")\n",
    "    print(\"\")\n",
    "    i+=1\n"
   ]
  },
  {
   "cell_type": "code",
   "execution_count": null,
   "metadata": {},
   "outputs": [],
   "source": [
    "n = int(input(\"Enter the no of lines:\"))\n",
    "i = n\n",
    "while(i>=1):\n",
    "    print(\" \"*(n-i),end=\"\")\n",
    "    print(\"*\"*(2*i - 1),end=\"\")\n",
    "    print(\"\")\n",
    "    i-=1\n",
    "\n",
    "i = 2\n",
    "while(i <= n):\n",
    "    print(\" \"*(n-i),end=\"\")\n",
    "    print(\"*\"*(2*i - 1),end = \"\")\n",
    "    print(\"\")\n",
    "    i+=1\n",
    "    \n",
    "    "
   ]
  },
  {
   "cell_type": "code",
   "execution_count": null,
   "metadata": {},
   "outputs": [],
   "source": [
    "n = 0\n",
    "while(n%2 == 0):\n",
    "    n = int(input(\"Enter the no of lines:\"))\n",
    "\n",
    "m = (n+1)/2\n",
    "m = int(m)\n",
    "i = 1\n",
    "while(i<=n):\n",
    "    if(i > m):\n",
    "        b = n-i\n",
    "        s = 2*(i-m) + 1\n",
    "    else:\n",
    "        b = i - 1\n",
    "        s = 2*(m-i) + 1\n",
    "    print(\" \"*b,end=\"\")\n",
    "    print(\"*\"*s,end=\"\")\n",
    "    print(\"\")\n",
    "    i+=1\n",
    "            \n",
    "\n",
    "            \n",
    "    \n"
   ]
  },
  {
   "cell_type": "code",
   "execution_count": null,
   "metadata": {},
   "outputs": [],
   "source": [
    "for i in [11,22,33,44,55,66]:\n",
    "    print(\"i=\",i)"
   ]
  },
  {
   "cell_type": "code",
   "execution_count": null,
   "metadata": {},
   "outputs": [],
   "source": [
    "for i in range(0,5):\n",
    "    print(\"i =\",i)"
   ]
  },
  {
   "cell_type": "code",
   "execution_count": null,
   "metadata": {},
   "outputs": [],
   "source": [
    "for i in range(0,5,2):\n",
    "    print(\"i = {}\".format(i))\n",
    "print(\"#######\")\n",
    "print(i)"
   ]
  },
  {
   "cell_type": "code",
   "execution_count": null,
   "metadata": {},
   "outputs": [],
   "source": [
    "for i in range(5,1,-2):\n",
    "    print(\"i =\",i)\n",
    "    "
   ]
  },
  {
   "cell_type": "code",
   "execution_count": null,
   "metadata": {},
   "outputs": [],
   "source": [
    "n = 0\n",
    "while(n%2 == 0):\n",
    "    n = int(input(\"Enter the no of lines:\"))\n",
    "\n",
    "m = (n+1)/2\n",
    "m = int(m)\n",
    "i = 1\n",
    "for i in range(1,n+1):\n",
    "    if(i > m):\n",
    "        b = n-i\n",
    "        s = 2*(i-m) + 1\n",
    "    else:\n",
    "        b = i - 1\n",
    "        s = 2*(m-i) + 1\n",
    "    print(\" \"*b,end=\"\")\n",
    "    print(\"*\"*s,end=\"\")\n",
    "    print(\"\")\n",
    "    \n",
    "            \n",
    "\n",
    "            \n",
    "    \n"
   ]
  },
  {
   "cell_type": "code",
   "execution_count": null,
   "metadata": {},
   "outputs": [],
   "source": [
    "#Magic no\n",
    "n = int(input(\"Enter the number:\"))\n",
    "t = n\n",
    "while(t>9):\n",
    "    print(\"Doing again...\")\n",
    "    s = 0\n",
    "    while(t != 0):\n",
    "        d = t%10\n",
    "        t = t//10\n",
    "        s = s + d\n",
    "    t = s\n",
    "print(\"Output = \",t)\n"
   ]
  },
  {
   "cell_type": "code",
   "execution_count": null,
   "metadata": {},
   "outputs": [],
   "source": [
    "# sum = 1+2+3+4+10+5+6+7+8+28+9....... n terms\n",
    "n = int(input(\"Enter the no of terms:\"))\n",
    "s=0\n",
    "m_s = 0\n",
    "c=0\n",
    "term = 1\n",
    "for i in range(1,n+1):\n",
    "    if(i%5 != 0): \n",
    "        s = s + term\n",
    "        m_s = m_s + term\n",
    "        print(\"if-m_s \",m_s)\n",
    "        term = term + 1\n",
    "        print(\"if-s \",s)\n",
    "    else:\n",
    "        s = s + m_s\n",
    "        print(\"els-s \",s)\n",
    "        print(\"els-m_s \",m_s)\n",
    "        m_s = 0\n",
    "\n",
    "print(\"Sum = \",s)\n",
    "   \n",
    "\n",
    "\n"
   ]
  },
  {
   "cell_type": "code",
   "execution_count": null,
   "metadata": {},
   "outputs": [],
   "source": [
    "n = int(input(\"Enter the no of terms:\"))\n",
    "fsum = tsum = 0\n",
    "term =1\n",
    "for i in range(1,n+1):\n",
    "    if(i%5 ==0 ):\n",
    "        fsum += tsum\n",
    "        print(\"Adding tsum --> \",tsum)\n",
    "        tsum = 0\n",
    "    else:\n",
    "        fsum += term\n",
    "        print(\"Adding term --> \",term)\n",
    "        tsum+= term\n",
    "        term+= 1\n",
    "    \n",
    "print(fsum)"
   ]
  },
  {
   "cell_type": "code",
   "execution_count": null,
   "metadata": {},
   "outputs": [],
   "source": [
    "#STRINGS"
   ]
  },
  {
   "cell_type": "code",
   "execution_count": null,
   "metadata": {},
   "outputs": [],
   "source": [
    "my_str = \"university\"\n",
    "print(my_str)\n",
    "print(my_str[-5:-8:-1])\n",
    "print(my_str[::-1])\n",
    "print(my_str[4:8])\n",
    "print(my_str[9:5:-2])\n",
    "print(my_str[-7:6:3])"
   ]
  },
  {
   "cell_type": "code",
   "execution_count": null,
   "metadata": {},
   "outputs": [],
   "source": [
    "import math \n",
    "a = 4.6\n",
    "print(math.ceil(a))\n",
    "print(math.floor(a))\n",
    "b = 9\n",
    "print(math.sqrt(b))\n",
    "print(math.exp(3.0))\n",
    "print(math.log(2.0))\n",
    "print(math.pow(2.0,3.0))\n",
    "print(math.sin(0))\n",
    "print(math.cos(0))\n",
    "print(math.tan(45))\n",
    "print(abs(-4.5))\n"
   ]
  },
  {
   "cell_type": "code",
   "execution_count": null,
   "metadata": {},
   "outputs": [],
   "source": [
    "mysqrt = math.sqrt  #only in py3.7\n",
    "print(mysqrt(16))"
   ]
  },
  {
   "cell_type": "code",
   "execution_count": null,
   "metadata": {},
   "outputs": [],
   "source": [
    "my_str = \"   caLCuttA uNIvErsity\"\n",
    "print(my_str)\n",
    "print(my_str.capitalize())\n",
    "print(my_str.upper())\n",
    "print(my_str.lower())\n",
    "print(my_str.swapcase())\n",
    "print(my_str.lstrip())"
   ]
  },
  {
   "cell_type": "code",
   "execution_count": null,
   "metadata": {},
   "outputs": [],
   "source": [
    "my_str = \"1234\"\n",
    "print(my_str.isalpha())\n",
    "print(my_str.isdigit())\n",
    "print(my_str.isnumeric())\n",
    "print(my_str.isalnum())"
   ]
  },
  {
   "cell_type": "code",
   "execution_count": null,
   "metadata": {},
   "outputs": [],
   "source": [
    "my_str = \"abcd1234\"\n",
    "print(my_str.isalpha())\n",
    "print(my_str.isdigit())\n",
    "print(my_str.isnumeric())\n",
    "print(my_str.isalnum())"
   ]
  },
  {
   "cell_type": "code",
   "execution_count": null,
   "metadata": {},
   "outputs": [],
   "source": [
    "my_str = \"ABCD\"\n",
    "print(my_str.isupper())\n",
    "print(my_str.islower())"
   ]
  },
  {
   "cell_type": "code",
   "execution_count": null,
   "metadata": {},
   "outputs": [],
   "source": [
    "my_str = \"university\"\n",
    "print(my_str.find(\"vir\"))\n",
    "print(my_str.index(\"vir\"))"
   ]
  },
  {
   "cell_type": "code",
   "execution_count": null,
   "metadata": {},
   "outputs": [],
   "source": [
    "my_str = \"university\"\n",
    "print(my_str.startswith(\"ver\"))\n",
    "print(my_str.startswith(\"ver\",3,6))\n",
    "print(my_str.startswith(\"ver\",3,10))"
   ]
  },
  {
   "cell_type": "code",
   "execution_count": null,
   "metadata": {},
   "outputs": [],
   "source": [
    "my_str = \"university\"\n",
    "print(my_str.endswith(\"sity\"))\n",
    "print(my_str.endswith(\"ver\",0,6))\n",
    "print(my_str.endswith(\"ver\",3,10))"
   ]
  },
  {
   "cell_type": "code",
   "execution_count": null,
   "metadata": {},
   "outputs": [],
   "source": [
    "my_str = \"@@@@calcutta%%%\"\n",
    "print(my_str,len(my_str))\n",
    "print(my_str,my_str.lstrip(\"@\"),len(my_str.lstrip(\"@\")))\n",
    "print(my_str,my_str.rstrip(\"%\"),len(my_str.rstrip(\"%\")))\n",
    "print(my_str,my_str.strip(\"@%\"),len(my_str.strip(\"@%\")))\n"
   ]
  },
  {
   "cell_type": "code",
   "execution_count": null,
   "metadata": {},
   "outputs": [],
   "source": [
    "my_str = \" \"\n",
    "print(my_str.isspace())\n",
    "my_str = \" abc \"\n",
    "print(my_str.isspace())"
   ]
  },
  {
   "cell_type": "code",
   "execution_count": null,
   "metadata": {},
   "outputs": [],
   "source": [
    "my_str = \"Happy New Year 2018\"\n",
    "print(my_str)\n",
    "print(my_str.replace(\"2018\",\"2019\"))"
   ]
  },
  {
   "cell_type": "code",
   "execution_count": null,
   "metadata": {},
   "outputs": [],
   "source": [
    "my_str = \"Wishing You a Happy New Year\"\n",
    "my_list = my_str.split(\" \")\n",
    "print(my_list)\n",
    "for i in my_list:\n",
    "    print(i)"
   ]
  },
  {
   "cell_type": "code",
   "execution_count": null,
   "metadata": {},
   "outputs": [],
   "source": [
    "#take a binary no as string as input ...calculate its decimal equivalent\n"
   ]
  },
  {
   "cell_type": "code",
   "execution_count": null,
   "metadata": {},
   "outputs": [],
   "source": [
    "import math\n",
    "n = input(\"Enter binary no:\")\n",
    "l = list(n)\n",
    "n_len = len(n)\n",
    "sum = 0 \n",
    "for i in range(0,n_len):\n",
    "    sum = sum + int(n[i]) * math.pow(2,len(n)-i-1)\n",
    "print(sum)\n",
    "\n"
   ]
  },
  {
   "cell_type": "code",
   "execution_count": null,
   "metadata": {},
   "outputs": [],
   "source": [
    "import math\n",
    "n = input(\"Enter binary no:\")\n",
    "l = list(n)\n",
    "length = len(l)\n",
    "sum = 0\n",
    "for i in range(0,length):\n",
    "    sum = sum + int(l[i]) * math.pow(2,len(l)-i-1)\n",
    "print(sum)"
   ]
  },
  {
   "cell_type": "code",
   "execution_count": null,
   "metadata": {},
   "outputs": [],
   "source": [
    "s = \"sister is good\"\n",
    "l = s.split(\" \")\n",
    "print(l)"
   ]
  },
  {
   "cell_type": "code",
   "execution_count": null,
   "metadata": {},
   "outputs": [],
   "source": [
    "print(\" \".join(l))"
   ]
  },
  {
   "cell_type": "code",
   "execution_count": null,
   "metadata": {},
   "outputs": [],
   "source": [
    "#Start of 3rd class...... Bring it on"
   ]
  },
  {
   "cell_type": "code",
   "execution_count": null,
   "metadata": {},
   "outputs": [],
   "source": [
    "## DEALING WITH FUNCTIONS"
   ]
  },
  {
   "cell_type": "code",
   "execution_count": null,
   "metadata": {},
   "outputs": [],
   "source": [
    "def my_addition(num1,num2):\n",
    "    result = num1 + num2\n",
    "    print(\"Performing the addition operation...\")\n",
    "    return(result)\n",
    "data1 = int(input(\"Enter the first number:\"))\n",
    "data2 = int(input(\"Enter the second number\"))\n",
    "print(\"Sum is\",my_addition(data1,data2))\n",
    "    "
   ]
  },
  {
   "cell_type": "code",
   "execution_count": null,
   "metadata": {},
   "outputs": [],
   "source": [
    "# With single return statement we can return multiple values in python\n",
    "\n",
    "def my_calculation(data1,data2):\n",
    "    print(\"Performing four major calculations...\")\n",
    "    return data1+data2,data1-data2,data1*data2,data1/data2\n",
    "d1 = int(input(\"Enter the first number:\"))\n",
    "d2 = int(input(\"Enter the second number\"))\n",
    "print(my_calculation(d1,d2)) #will return the output in tuples\n",
    "s,d,p,q=my_calculation(d1,d2)\n",
    "print(s,d,p,q)\n",
    "\n"
   ]
  },
  {
   "cell_type": "code",
   "execution_count": null,
   "metadata": {},
   "outputs": [],
   "source": [
    "# Dealing with default arguments...\n",
    "\n",
    "def my_function(arg1=222,arg2=110,arg3=333):\n",
    "    print(arg1,arg2,arg3)\n",
    "\n",
    "my_function(200,100,300)\n",
    "my_function(200,100)\n",
    "my_function(200)\n",
    "my_function()\n",
    "my_function(arg2=20,arg3=30,arg1=10)\n",
    "my_function(arg3=30,arg1=10)"
   ]
  },
  {
   "cell_type": "code",
   "execution_count": null,
   "metadata": {},
   "outputs": [],
   "source": [
    "#dealing with default arguments\n",
    "\n",
    "def my_function(arg1,arg2=None):\n",
    "    print(arg1)\n",
    "    if(arg2 is not None):\n",
    "        print(arg2)\n",
    "my_function(100,200)\n",
    "print(\"-----------------------------------\")\n",
    "my_function(100)\n"
   ]
  },
  {
   "cell_type": "code",
   "execution_count": null,
   "metadata": {},
   "outputs": [],
   "source": [
    "#Dealing with recursion\n",
    "\n",
    "#Factorial using non-recusrsion\n",
    "def fact_cal_nr(num):\n",
    "    fact = 1\n",
    "    for i in range(1,num+1):\n",
    "        fact*=i\n",
    "    return fact\n",
    "\n",
    "d = int(input(\"Enter the number:\"))\n",
    "t = fact_cal_nr(d)\n",
    "print(\"Factorial of \",d,\" is \",t)"
   ]
  },
  {
   "cell_type": "code",
   "execution_count": null,
   "metadata": {},
   "outputs": [],
   "source": [
    "#Factorial using non-recusrsion\n",
    "\n",
    "'''def fact_cal_nr(num):\n",
    "    fact = 2 #loop will run for num-1 no of times\n",
    "    for i in range(1,num):\n",
    "        fact*=i\n",
    "    return fact\n",
    "\n",
    "d = int(input(\"Enter the number:\"))\n",
    "t = fact_cal_nr(d)\n",
    "print(\"Factorial of \",d,\" is \",t)'''"
   ]
  },
  {
   "cell_type": "code",
   "execution_count": null,
   "metadata": {},
   "outputs": [],
   "source": [
    "#Factorial using recursion\n",
    "\n",
    "def fact_cal_r(n):\n",
    "    if n == 0 or  n == 1:\n",
    "        return 1\n",
    "    else:\n",
    "        return n * fact_cal_r(n-1)\n",
    "\n",
    "print(fact_cal_r(5))\n"
   ]
  },
  {
   "cell_type": "code",
   "execution_count": null,
   "metadata": {},
   "outputs": [],
   "source": [
    "def fact_calculation(num,choice):\n",
    "    if(choice == \"r\"):\n",
    "        print(\"Recursive version executing...\")\n",
    "        print(fact_cal_r(num))\n",
    "    else:\n",
    "        print(\"Non Recursive version executing.....\")\n",
    "        print(fact_cal_nr(num))\n",
    "fact_calculation(5,\"nr\")\n",
    "fact_calculation(5,\"r\")"
   ]
  },
  {
   "cell_type": "code",
   "execution_count": null,
   "metadata": {},
   "outputs": [],
   "source": [
    "# Lambda function \n",
    "# single statement function\n",
    "\n",
    "sqr_func = lambda x1: x1 * x1\n",
    "print(sqr_func(4))"
   ]
  },
  {
   "cell_type": "code",
   "execution_count": null,
   "metadata": {},
   "outputs": [],
   "source": [
    "add_func = lambda a,b: a + b\n",
    "print(add_func(100,200))"
   ]
  },
  {
   "cell_type": "code",
   "execution_count": null,
   "metadata": {},
   "outputs": [],
   "source": [
    "outcome = 5 > 4 or 7 > 8\n",
    "print(outcome)\n",
    "outcome = 5 > 4 and 7 > 8\n",
    "print(outcome)\n",
    "outcome = 5 > 4 and 17 > 8\n",
    "print(outcome)\n",
    "\n"
   ]
  },
  {
   "cell_type": "code",
   "execution_count": null,
   "metadata": {},
   "outputs": [],
   "source": [
    "a = 250\n",
    "b = 150\n",
    "print(a,b,a & b)\n",
    "print(a,b,a | b)\n",
    "print(a,b,a ^b)\n",
    "print(a,~a)\n",
    "\n",
    "# 250 = 128 + 64 + 32 + 16 + 8 + 2 = 1111 1010\n",
    "# 150 = 128 + 16 + 4 + 2           = 1001 0110\n",
    "                               # ----------------- \n",
    "#                            And      1001 0010 = 146\n",
    "\n",
    "#250 = 128 + 64 + 32 + 16 + 8 + 2 =  1111 1010\n",
    "# 150 = 128 + 16 + 4 + 2          =  1001 0110\n",
    "                               # ----------------- \n",
    "#                            OR    1111 1110 = 254\n",
    "\n",
    "#250 = 128 + 64 + 32 + 16 + 8 + 2 = 1111 1010\n",
    "# 150 = 128 + 16 + 4 + 2          = 1001 0110\n",
    "                               # ----------------- \n",
    "#                            XOR    0110 1100 = 108\n",
    "\n",
    "#250 = 128 + 64 + 32 + 16 + 8 + 2 = 1111 1010\n",
    "# 1's complement                 =  0000 0101\n",
    "# 2's complement                 =  0000 0001\n",
    "#------------------------------------------------------\n",
    "# ADD                            =  0000 0110\n"
   ]
  },
  {
   "cell_type": "code",
   "execution_count": null,
   "metadata": {},
   "outputs": [],
   "source": [
    "#Dealing with list\n",
    "\n",
    "grocery_list = [\"juice\",\"tomatoes\",\"potatoes\",\"bananas\"]\n",
    "print(\"first item:\",grocery_list[0])\n",
    "print(grocery_list)\n",
    "print(grocery_list[1:3])\n",
    "print(grocery_list[-3:3])"
   ]
  },
  {
   "cell_type": "code",
   "execution_count": null,
   "metadata": {},
   "outputs": [],
   "source": [
    "grocery_list = [\"juice\",\"tomatoes\",\"potatoes\",\"bananas\"]\n",
    "other_events = [\"car wash\",\"car drive\",\"walk\",\"sleep\"]\n",
    "print(grocery_list)\n",
    "print(other_events)\n",
    "print(\"Using + operator-------\")\n",
    "to_do_list = grocery_list + other_events\n",
    "print(to_do_list)\n",
    "print(len(to_do_list))\n",
    "#print(\"Using extend keyword---------\")\n",
    "#grocery_list.extend(other_events)\n",
    "#print(grocery_list)\n",
    "#print(\"-----------------------------------\")\n",
    "to_do_list = [grocery_list,other_events]\n",
    "print(to_do_list)\n",
    "print(len(to_do_list))\n",
    "print(\"----------------------------------------------\")\n",
    "for i in grocery_list:\n",
    "    print(i)\n",
    "print(\"-----------------------------------------------\")\n",
    "print(to_do_list)\n",
    "\n",
    "print(\"\\n---------------to_do_list---------------------\\n\")\n",
    "for i in to_do_list:\n",
    "    print(i)\n",
    "    for j in i:\n",
    "        print(j)\n"
   ]
  },
  {
   "cell_type": "code",
   "execution_count": null,
   "metadata": {},
   "outputs": [],
   "source": [
    "print(to_do_list[1])\n",
    "print(to_do_list[1][1:3])"
   ]
  },
  {
   "cell_type": "code",
   "execution_count": null,
   "metadata": {},
   "outputs": [],
   "source": [
    "#list functions\n",
    "\n",
    "print(grocery_list)\n",
    "print(\"\\n----------------Appending function----------------------\\n\")\n",
    "grocery_list.append(\"onion\")\n",
    "print(grocery_list)\n",
    "\n"
   ]
  },
  {
   "cell_type": "code",
   "execution_count": null,
   "metadata": {},
   "outputs": [],
   "source": [
    "print(\"\\n----------------Insert function----------------------\\n\")\n",
    "grocery_list.insert(1,\"pickle\")\n",
    "print(grocery_list)\n"
   ]
  },
  {
   "cell_type": "code",
   "execution_count": null,
   "metadata": {},
   "outputs": [],
   "source": [
    "print(\"\\n----------------Remove function----------------------\\n\")\n",
    "#grocery_list.remove(\"pickle\")\n",
    "grocery_list.remove(\"onion\")\n",
    "print(grocery_list)"
   ]
  },
  {
   "cell_type": "code",
   "execution_count": null,
   "metadata": {},
   "outputs": [],
   "source": [
    "my_list1 = [\"amit\",\"100\",\"accountant\",\"belgharia\"]\n",
    "print(my_list1)\n",
    "print(\"\\n---------------Ascending order-----------------\\n\")\n",
    "my_list1.sort()\n",
    "print(my_list1)\n",
    "print(\"\\n---------------Rerversing----------------------\\n\")\n",
    "my_list1.reverse()\n",
    "print(my_list1)"
   ]
  },
  {
   "cell_type": "code",
   "execution_count": null,
   "metadata": {},
   "outputs": [],
   "source": [
    "#REMOVING ITEMS FROM LIST. THERE ARE TWO WAYS:\n",
    "#1. DELETE 2. REMOVE\n",
    "\n",
    "my_list1 = [\"amit\",\"100\",\"accountant\",\"belgharia\"]\n",
    "my_list1.remove(\"accountant\")\n",
    "print(my_list1)\n"
   ]
  },
  {
   "cell_type": "code",
   "execution_count": null,
   "metadata": {},
   "outputs": [],
   "source": [
    "#Using delete function\n",
    "\n",
    "my_list1 = [\"amit\",\"100\",\"accountant\",\"belgharia\"]\n",
    "del my_list1[2]\n",
    "print(my_list1)"
   ]
  },
  {
   "cell_type": "code",
   "execution_count": null,
   "metadata": {},
   "outputs": [],
   "source": [
    "# Dealing with Tuples\n",
    "# Tuples are immutable and enclosed in {} \n",
    "# Enhances data security\n",
    "\n",
    "my_tuple = (1,2,\"amit\",\"male\",34)\n",
    "print(my_tuple)\n",
    "print(my_tuple[2])\n",
    "# my_tuple[2] = \"amitava\" TypeError, cannot be updated because it is immutable"
   ]
  },
  {
   "cell_type": "code",
   "execution_count": null,
   "metadata": {},
   "outputs": [],
   "source": [
    "my_list = list(my_tuple)\n",
    "my_list[2] = \"amitava\"\n",
    "my_tuple = tuple(my_list)\n",
    "print(my_tuple)"
   ]
  },
  {
   "cell_type": "code",
   "execution_count": null,
   "metadata": {},
   "outputs": [],
   "source": [
    "my_tuple = (44,22,66,88,55,99)\n",
    "my_list = [44,22,66,88,55,99]\n",
    "print(len(my_tuple),max(my_tuple),min(my_tuple))\n",
    "print(len(my_list),max(my_list),min(my_list))"
   ]
  },
  {
   "cell_type": "code",
   "execution_count": null,
   "metadata": {},
   "outputs": [],
   "source": [
    "# Dealing with Dictionaries\n",
    "#Key-value pairs\n",
    "diction_fruit = {\"banana\":\"yellow\",\n",
    "                 \"apple\":\"red\",\n",
    "                 \"guava\":\"green\",\n",
    "                 \"grape\":\"black\",\n",
    "                 \"orange\":\"orange\"}"
   ]
  },
  {
   "cell_type": "code",
   "execution_count": null,
   "metadata": {},
   "outputs": [],
   "source": [
    "print(diction_fruit)"
   ]
  },
  {
   "cell_type": "code",
   "execution_count": null,
   "metadata": {},
   "outputs": [],
   "source": [
    "print(diction_fruit.keys())"
   ]
  },
  {
   "cell_type": "code",
   "execution_count": null,
   "metadata": {},
   "outputs": [],
   "source": [
    "print(diction_fruit.values())"
   ]
  },
  {
   "cell_type": "code",
   "execution_count": null,
   "metadata": {},
   "outputs": [],
   "source": [
    "print(diction_fruit.items())"
   ]
  },
  {
   "cell_type": "code",
   "execution_count": null,
   "metadata": {},
   "outputs": [],
   "source": [
    "my_list = list(diction_fruit)\n",
    "print(my_list)\n",
    "my_list = list(diction_fruit.items())\n",
    "print(my_list)\n"
   ]
  },
  {
   "cell_type": "code",
   "execution_count": null,
   "metadata": {},
   "outputs": [],
   "source": [
    "print(my_list[2])"
   ]
  },
  {
   "cell_type": "code",
   "execution_count": null,
   "metadata": {},
   "outputs": [],
   "source": [
    "print(diction_fruit)\n",
    "print(diction_fruit[\"guava\"])\n",
    "print(diction_fruit.get(\"guava\")) #get method\n",
    "# print(diction_fruit[\"pineapple\"]) key doesnt exist"
   ]
  },
  {
   "cell_type": "code",
   "execution_count": null,
   "metadata": {},
   "outputs": [],
   "source": [
    "print(diction_fruit)\n",
    "diction_fruit[\"grape\"] = \"green\"\n",
    "print(diction_fruit)\n",
    "diction_fruit[\"mango\"] = \"yellow\"\n",
    "print(diction_fruit)\n"
   ]
  },
  {
   "cell_type": "code",
   "execution_count": null,
   "metadata": {},
   "outputs": [],
   "source": [
    "print(diction_fruit)\n",
    "del diction_fruit[\"grape\"] #delete that particular key\n",
    "print(diction_fruit)"
   ]
  },
  {
   "cell_type": "code",
   "execution_count": null,
   "metadata": {},
   "outputs": [],
   "source": [
    "print(diction_fruit)\n",
    "diction_fruit.clear()  #clear the entire dictionary\n",
    "print(diction_fruit)"
   ]
  },
  {
   "cell_type": "code",
   "execution_count": null,
   "metadata": {},
   "outputs": [],
   "source": [
    "print(diction_fruit)\n",
    "del diction_fruit  #clear the entire dictionary\n",
    "print(diction_fruit)"
   ]
  },
  {
   "cell_type": "code",
   "execution_count": null,
   "metadata": {},
   "outputs": [],
   "source": [
    "diction_fruit = {\"banana\":\"yellow\",\n",
    "                 \"apple\":\"red\",\n",
    "                 \"guava\":\"green\",\n",
    "                 \"grape\":\"black\",\n",
    "                 \"orange\":\"orange\"}\n",
    "print(diction_fruit)"
   ]
  },
  {
   "cell_type": "code",
   "execution_count": null,
   "metadata": {},
   "outputs": [],
   "source": [
    "print(diction_fruit[\"pineapple\"])"
   ]
  },
  {
   "cell_type": "code",
   "execution_count": null,
   "metadata": {},
   "outputs": [],
   "source": [
    "try:\n",
    "    print(diction_fruit[\"pineapple\"])\n",
    "except KeyError as e:\n",
    "    print(\"Error \",e,\" occured..\")"
   ]
  },
  {
   "cell_type": "code",
   "execution_count": null,
   "metadata": {},
   "outputs": [],
   "source": [
    "#Dealing with sets \n",
    "# unordered\n",
    "# unique values\n",
    "#creating with empty set\n",
    "empty_set = set()\n",
    "\n",
    "#creating a non empty set\n",
    "languages = {\"python\",\"r\",\"java\"}\n",
    "#creating a set from a list\n",
    "snakes = set ([\"cobra\",\"viper\",\"python\"])\n",
    "print(languages)\n",
    "print(snakes)\n"
   ]
  },
  {
   "cell_type": "code",
   "execution_count": null,
   "metadata": {},
   "outputs": [],
   "source": [
    "len(languages)"
   ]
  },
  {
   "cell_type": "code",
   "execution_count": null,
   "metadata": {},
   "outputs": [],
   "source": [
    "\"python\" in languages # set membership operators"
   ]
  },
  {
   "cell_type": "code",
   "execution_count": null,
   "metadata": {},
   "outputs": [],
   "source": [
    "\"cobra\" in snakes"
   ]
  },
  {
   "cell_type": "code",
   "execution_count": null,
   "metadata": {},
   "outputs": [],
   "source": [
    "languages\n"
   ]
  },
  {
   "cell_type": "code",
   "execution_count": null,
   "metadata": {},
   "outputs": [],
   "source": [
    "snakes"
   ]
  },
  {
   "cell_type": "code",
   "execution_count": null,
   "metadata": {},
   "outputs": [],
   "source": [
    "print(languages & snakes)\n",
    "print(languages.intersection(snakes))"
   ]
  },
  {
   "cell_type": "code",
   "execution_count": null,
   "metadata": {},
   "outputs": [],
   "source": [
    "print(languages | snakes)\n",
    "print(languages.union(snakes))         # \\ = union"
   ]
  },
  {
   "cell_type": "code",
   "execution_count": null,
   "metadata": {},
   "outputs": [],
   "source": [
    "languages.add(\"sql\")\n",
    "languages.add(\"r\")\n",
    "print(languages)"
   ]
  },
  {
   "cell_type": "code",
   "execution_count": null,
   "metadata": {},
   "outputs": [],
   "source": [
    "print(languages - snakes)\n",
    "print(languages.difference(snakes))\n",
    "print(languages.symmetric_difference(snakes))"
   ]
  },
  {
   "cell_type": "code",
   "execution_count": null,
   "metadata": {},
   "outputs": [],
   "source": [
    "languages.remove(\"sql\")\n",
    "print(languages)"
   ]
  },
  {
   "cell_type": "code",
   "execution_count": null,
   "metadata": {},
   "outputs": [],
   "source": [
    "try:\n",
    "    languages.remove(\"c++\")\n",
    "except KeyError as e:\n",
    "    print(\"Error \",e)"
   ]
  },
  {
   "cell_type": "code",
   "execution_count": null,
   "metadata": {},
   "outputs": [],
   "source": [
    "print(languages)"
   ]
  },
  {
   "cell_type": "code",
   "execution_count": null,
   "metadata": {},
   "outputs": [],
   "source": [
    "languages.remove(\"c++\")"
   ]
  },
  {
   "cell_type": "code",
   "execution_count": null,
   "metadata": {},
   "outputs": [],
   "source": [
    "languages.add(\"sql\")"
   ]
  },
  {
   "cell_type": "code",
   "execution_count": null,
   "metadata": {},
   "outputs": [],
   "source": [
    "languages\n"
   ]
  },
  {
   "cell_type": "code",
   "execution_count": null,
   "metadata": {},
   "outputs": [],
   "source": [
    "languages.discard(\"r\")  \n",
    "print(languages)"
   ]
  },
  {
   "cell_type": "code",
   "execution_count": null,
   "metadata": {},
   "outputs": [],
   "source": [
    "languages.remove(\"sql\")"
   ]
  },
  {
   "cell_type": "code",
   "execution_count": null,
   "metadata": {},
   "outputs": [],
   "source": [
    "print(languages)"
   ]
  },
  {
   "cell_type": "code",
   "execution_count": null,
   "metadata": {},
   "outputs": [],
   "source": [
    "languages.add(\"r\")\n",
    "languages.add(\"sql\")"
   ]
  },
  {
   "cell_type": "code",
   "execution_count": null,
   "metadata": {},
   "outputs": [],
   "source": [
    "print(languages)"
   ]
  },
  {
   "cell_type": "code",
   "execution_count": null,
   "metadata": {},
   "outputs": [],
   "source": [
    "languages.pop()"
   ]
  },
  {
   "cell_type": "code",
   "execution_count": null,
   "metadata": {},
   "outputs": [],
   "source": [
    "languages # r got deleted"
   ]
  },
  {
   "cell_type": "code",
   "execution_count": null,
   "metadata": {},
   "outputs": [],
   "source": [
    "languages.clear()\n",
    "print (languages)"
   ]
  },
  {
   "cell_type": "code",
   "execution_count": null,
   "metadata": {},
   "outputs": [],
   "source": [
    "languages.update(\"122\",\"344\")    ******\n",
    "print(languages)"
   ]
  },
  {
   "cell_type": "code",
   "execution_count": null,
   "metadata": {},
   "outputs": [],
   "source": [
    "languages.update(\"go\",\"spark\")"
   ]
  },
  {
   "cell_type": "code",
   "execution_count": null,
   "metadata": {},
   "outputs": [],
   "source": [
    "languages"
   ]
  },
  {
   "cell_type": "code",
   "execution_count": null,
   "metadata": {},
   "outputs": [],
   "source": [
    "sorted(set([9,0,2,1,0,10,5]))"
   ]
  },
  {
   "cell_type": "code",
   "execution_count": null,
   "metadata": {},
   "outputs": [],
   "source": [
    "my_set = {\"amal\",80,\"rr\"}\n"
   ]
  },
  {
   "cell_type": "code",
   "execution_count": null,
   "metadata": {},
   "outputs": [],
   "source": [
    "my_set"
   ]
  },
  {
   "cell_type": "code",
   "execution_count": null,
   "metadata": {},
   "outputs": [],
   "source": [
    "l = [80,100,90,45,145,90]\n",
    "s = set(l)\n",
    "sorted(s)"
   ]
  },
  {
   "cell_type": "code",
   "execution_count": null,
   "metadata": {},
   "outputs": [],
   "source": [
    "# 3rd class begins"
   ]
  },
  {
   "cell_type": "code",
   "execution_count": null,
   "metadata": {},
   "outputs": [],
   "source": [
    "#DEALING WITH OBJECT ORIENTED PROGRAMMING\n",
    "#DEALING WITH CLASSES AND OBJECTS"
   ]
  },
  {
   "cell_type": "code",
   "execution_count": null,
   "metadata": {},
   "outputs": [],
   "source": [
    "# A class have two types of variables\n",
    "# 1. class variable and 2. instance variables"
   ]
  },
  {
   "cell_type": "code",
   "execution_count": null,
   "metadata": {},
   "outputs": [],
   "source": [
    "class My_class:\n",
    "    __classVar1 = 100\n",
    "    __classVar2 = 200\n",
    "    def __init__(self,data1=1,data2=2):         # no constructor overloading and function overloading .. we can implement using default constructor  \n",
    "        self.__instVar1 = data1\n",
    "        self.__instVar2 = data2\n",
    "    def display(self):                                                                                 # no underscore means public section\n",
    "        print(\"ClassVar1 = {} and ClassVar2 = {}\".format(My_class.__classVar1,My_class.__classVar2))  # dot denotes a membership operator\n",
    "        print(\"InstVar1 = {} and InstVar2 = {}\".format(self.__instVar1,self.__instVar2)) # Double underscore denotes the member is private section and single underscore means protected section\n",
    "    def update(self,ndata1,ndata2):\n",
    "        My_class.__classVar1 = ndata1\n",
    "        My_class.__classVar2 = ndata2\n",
    "        \n",
    "\n",
    "obj1 = My_class(300,400)\n",
    "obj1.display()\n",
    "obj1.update(11,22)\n",
    "obj2 = My_class(500,600)\n",
    "obj2.display()"
   ]
  },
  {
   "cell_type": "code",
   "execution_count": null,
   "metadata": {},
   "outputs": [],
   "source": [
    "class Animal:\n",
    "    def __init__(self,name,height,weight,sound):\n",
    "        self.__name = name\n",
    "        self.__height = height\n",
    "        self.__weight = weight\n",
    "        self.__sound = sound\n",
    "    def set_name(self,name):           # setter function are required to set the values of the private members of a class \n",
    "        self.__name = name\n",
    "    def set_height(self,height):\n",
    "        self.__height = height\n",
    "    def set_weight(self,weight):\n",
    "        self.__weight = weight\n",
    "    def set_sound(self,sound):\n",
    "        self.__sound = sound\n",
    "    def get_name(self):                 # getter functions are required to get the values set to the variables\n",
    "        return self.__name\n",
    "    def get_height(self):\n",
    "        return self.__height\n",
    "    def get_weight(self):\n",
    "        return self.__weight\n",
    "    def get_sound(self):\n",
    "        return self.__sound\n",
    "    def get_type(self):\n",
    "        print(\"Animal.....\")\n",
    "    def display(self):\n",
    "        return \"{} is {} cm tall and weight {} and says {}\".format(self.__name,self.__height,self.__weight,self.__sound)\n",
    "        #print(\"Name\"+\"  \"+\"Height\" + \" \" + \"Weight\" + \"Sound\")\n",
    "        #print(self.__name + \" \" + str(self.__height) + \" \" + str(self.__weight) + \" \" + str(self.__sound))\n",
    "\n",
    "obj = Animal(\"Lion\",175,65,\"roar\")\n",
    "print(obj.display())\n",
    "#obj.display()\n"
   ]
  },
  {
   "cell_type": "code",
   "execution_count": null,
   "metadata": {},
   "outputs": [],
   "source": [
    "#Dealing With Inheritance\n",
    "class Dog(Animal):\n",
    "    def __init__(self,name,height,weight,sound,owner):\n",
    "        self.__owner = owner\n",
    "        super(Dog,self).__init__(name,height,weight,sound)        # ***** super keyword is used to call the base class constructor\n",
    "    def set_owner(self,owner):\n",
    "        self.__owner = owner\n",
    "    def get_owner(self):\n",
    "        return self.__owner\n",
    "    def multiple_sounds(self,how_many=None):\n",
    "        if(how_many is None):\n",
    "            print(self.get_sound())\n",
    "        else:\n",
    "            print(self.get_sound() * how_many)\n",
    "    def get_type(self):\n",
    "        print(\"Dog......\")  #Just displaying the name of the class and also implementation of function overiding \n",
    "    def displayDog(self):\n",
    "        return \"{} is {} cm tall of weight {} and says {} with owner {}\".format(self.get_name(),self.get_height(),self.get_weight(),self.get_sound(),self.__owner) #using get function so that we can access the private members of the class which we are inheriting           \n",
    "spot = Dog(\"Larry\",50,40,\"buff\",\"Adam\")\n",
    "print(spot.displayDog())\n",
    "spot.multiple_sounds(3)                              # Function overloading(Calling function with different no of arguments)\n",
    "spot.multiple_sounds()\n"
   ]
  },
  {
   "cell_type": "code",
   "execution_count": null,
   "metadata": {},
   "outputs": [],
   "source": [
    "class Animal_Testing:\n",
    "    def get_type(self,animal):                                  # passing object but the decision of which class to choose will be decided in run time\n",
    "        animal.get_type()\n",
    "test_animals = Animal_Testing()\n",
    "test_animals.get_type(obj)\n",
    "test_animals.get_type(spot)\n",
    "spot.multiple_sounds(3)                             \n",
    "spot.multiple_sounds()"
   ]
  },
  {
   "cell_type": "code",
   "execution_count": null,
   "metadata": {},
   "outputs": [],
   "source": [
    "class Tree:\n",
    "    def __init__(self,tree_code,height,width,amount_spent):\n",
    "        self.__tree_code = tree_code\n",
    "        self.__height = height\n",
    "        self.__width = width\n",
    "        self.__amount_spent = amount_spent\n",
    "    def set_tree_code(self,tree_code):\n",
    "        self.__tree_code = tree_code\n",
    "    def set_height(self,height):\n",
    "        self.__height = height\n",
    "    def set_width(self,width):\n",
    "        self.__width = width\n",
    "    def set_amount_spent(self,amount_spent):\n",
    "        self.__amount_spent = amount_spent\n",
    "    def get_tree_code(self):\n",
    "        return self.__tree_code\n",
    "    def get_height(self):\n",
    "        return self.__height\n",
    "    def get_width(self):\n",
    "        return self.__width \n",
    "    def get_amount_spent(self):\n",
    "        return self.__amount_spent\n",
    "    def get_type(self):\n",
    "        print(\"Tree.............\")\n",
    "    def annual_update(self,htt,wdd,amtt):\n",
    "        self.__height+= htt\n",
    "        self.__width+= wdd\n",
    "        self.__amount_spent+= amtt\n",
    "\n",
    "    def displayTree(self):\n",
    "        print(\"Tree code:\",self.__tree_code,\"Height:\",self.__height,\"Width:\",self.__width,\"Amount_spent:\",self.__amount_spent)\n",
    "    "
   ]
  },
  {
   "cell_type": "code",
   "execution_count": null,
   "metadata": {},
   "outputs": [],
   "source": [
    "class MangoTree(Tree):\n",
    "    def __init__(self,tree_code,height,width,amount_spent,my_yield):\n",
    "        self.__my_yield = my_yield\n",
    "        super(MangoTree,self).__init__(tree_code,height,width,amount_spent)\n",
    "    def set_my_yield(self,my_yield):\n",
    "        self.__my_yield = my_yield\n",
    "    def get_my_yield(self):\n",
    "        return self.__my_yield\n",
    "    def annual_update(self,htt,wdd,amtt,yyld):\n",
    "        self.__my_yield+= yyld\n",
    "        super(MangoTree,self).annual_update(htt,wdd,amtt)\n",
    "        \n",
    "    def displayMangoTree(self):\n",
    "        print(\"Tree code:\",self.get_tree_code(),\"Height:\",self.get_height(),\"Width:\",self.get_width(),\"Amount_spent:\",self.get_amount_spent(),\"Yield:\",self.__my_yield)\n",
    "m1 = MangoTree(\"Man001\",200,100,1200,100)\n",
    "m1.displayMangoTree()\n",
    "m1.annual_update(100,200,500,700)\n",
    "m1.displayMangoTree()\n",
    "        "
   ]
  },
  {
   "cell_type": "code",
   "execution_count": null,
   "metadata": {},
   "outputs": [],
   "source": [
    "class Garden:\n",
    "    def __init__(self,m1,m2,m3,t1,t2):\n",
    "        self.__mangotree1 = m1\n",
    "        self.__mangotree2 = m2\n",
    "        self.__mangotree3 = m3\n",
    "        self.__tree1 = t1\n",
    "        self.__tree2 = t2\n",
    "    def total_yield(self):\n",
    "        return(self.__mangotree1.get_my_yield() +  self.__mangotree2.get_my_yield() + self.__mangotree3.get_my_yield())\n",
    "    def total_spent(self):\n",
    "        return(self.__mangotree1.get_amount_spent()+self.__mangotree2.get_amount_spent()+self.__mangotree3.get_amount_spent()+self.__tree1.get_amount_spent()+self.__tree2.get_amount_spent())\n",
    "    def gardendisplay(self):\n",
    "        print(\"Displaying all trees............................\")\n",
    "        self.__mangotree1.displayMangoTree()\n",
    "        self.__mangotree2.displayMangoTree()\n",
    "        self.__mangotree3.displayMangoTree()\n",
    "        self.__tree1.displayTree()\n",
    "        self.__tree2.displayTree()\n",
    "        print(\"Total Amount spent\",self.total_spent())\n",
    "        print(\"Total Amount yield\",self.total_yield())\n",
    "        \n",
    "ma1 = MangoTree(\"Himsagar\",20,8,1200,1000)\n",
    "ma2 = MangoTree(\"Chausa\",21,9,1400,1200)\n",
    "ma3 = MangoTree(\"Langra\",22,10,1600,1400)\n",
    "tre1 = Tree(\"Banyan\",10,6,1200)\n",
    "tre2 = Tree(\"Palm\",11,6,1400) \n",
    "g1=Garden(ma1,ma2,ma3,tre1,tre2)\n",
    "print(g1.gardendisplay())\n",
    "#print(\"Total Amount spent:\",g1.total_spent())\n",
    "#print(\"Total Amount spent:\",g1.total_yield())\n"
   ]
  },
  {
   "cell_type": "code",
   "execution_count": null,
   "metadata": {},
   "outputs": [],
   "source": [
    "#DEALING WITH NUMPY.........\n",
    "#importing Numpy module......\n",
    "import numpy as np\n"
   ]
  },
  {
   "cell_type": "code",
   "execution_count": null,
   "metadata": {},
   "outputs": [],
   "source": [
    "#creating nd-array from the lists\n",
    "#note that,every element must be the same type(will be converted if possible) \n",
    "data1 = [1,2,3,4,5] #defining a list\n",
    "print(data1)            #displaying the list\n",
    "arr1 = np.array(data1)  #creating 1-d array\n",
    "print(arr1)             #dipslaying the array\n",
    "# numpy used in data manipulation and numpy contains items of same data type only and not diff data type as in lists"
   ]
  },
  {
   "cell_type": "code",
   "execution_count": null,
   "metadata": {},
   "outputs": [],
   "source": [
    "data2 = [range(1,5),range(5,9)]   # list of lists\n",
    "print(data2)                      #display\n",
    "arr2 = np.array(data2)            #2d array , you can create n no of arrays \n",
    "print(arr2)\n",
    "my_list = arr2.tolist()           # converting array back to list\n",
    "print(my_list)"
   ]
  },
  {
   "cell_type": "code",
   "execution_count": null,
   "metadata": {},
   "outputs": [],
   "source": [
    "my_list = [11,22,33,44,55]\n",
    "print(my_list)\n",
    "arr3 = np.array(my_list)\n",
    "print(arr3)"
   ]
  },
  {
   "cell_type": "code",
   "execution_count": null,
   "metadata": {},
   "outputs": [],
   "source": [
    "#examining the array\n",
    "print(arr1)\n",
    "print(arr2)\n",
    "print(arr1.dtype) # returns the data type\n",
    "print(arr2.dtype)\n",
    "print(arr1.ndim) # returns no of dimensions\n",
    "print(arr2.ndim)\n",
    "print(arr1.shape)  # singleton therefore display only no. of items\n",
    "print(arr2.shape)  # [2,4] axis-0 rows, axis-1 cols\n",
    "print(\"------------------------\")\n",
    "print(arr1.size)   # total no of elements\n",
    "print(arr2.size)\n",
    "print(\"------------------------\")\n",
    "print(len(arr1))  # returns no of rows\n",
    "print(len(arr2))\n",
    "print(len(arr2[0]))"
   ]
  },
  {
   "cell_type": "code",
   "execution_count": null,
   "metadata": {},
   "outputs": [],
   "source": [
    "# Creating special type of arrays\n",
    "print(np.zeros(10))    # array with 10 float64 zero values\n",
    "print(np.zeros((3,6))) # 2-d array filled with 0's \n",
    "print(np.ones(10))     # array with 10 float64 one values and single precision floating point no is 32 bits and double precision floating point no is 64 bits\n",
    "print(np.ones(10).dtype)\n",
    "print(np.ones((3,6)))   # taking using (3,6) as tuples\n",
    "m = np.ones(10)\n",
    "m = m.reshape(10)\n",
    "print(m)"
   ]
  },
  {
   "cell_type": "code",
   "execution_count": null,
   "metadata": {},
   "outputs": [],
   "source": [
    "print ( np.linspace(0,1,5)) # 0 to 1(inclusive) with 5 points\n",
    "print ( np.logspace(0,3,4)) # 10^0 to 10^3 (inclusive) with 4 points i.e starting from 0 to 3 with 4 equidistant points"
   ]
  },
  {
   "cell_type": "code",
   "execution_count": null,
   "metadata": {},
   "outputs": [],
   "source": [
    "# arange is like range, except it returns an array (not a list)\n",
    "int_array = np.arange(5)            # arange here means array's range\n",
    "print(int_array)\n",
    "float_array = int_array.astype(float) # converting int array to float\n",
    "print(float_array)"
   ]
  },
  {
   "cell_type": "code",
   "execution_count": null,
   "metadata": {},
   "outputs": [],
   "source": [
    "matrix = np.arange(10,dtype=float)\n",
    "print(matrix)\n",
    "print(matrix.T)\n",
    "print(matrix[:,np.newaxis])\n",
    "print(matrix[:,np.newaxis].T)\n",
    "#print(matrix.T)\n",
    "matrix = matrix.reshape(5,2)   # conversion from one dimensional array to 2d array\n",
    "print(matrix)\n",
    "matrix = matrix.reshape(2,5)\n",
    "print(matrix)\n",
    "matrix = matrix.flatten(5)\n",
    "print(matrix)\n",
    "#print(matrix.T)      # transpose of n d array , one dimensional cant be transposed , transpose is done on 2-d array\n",
    "#matrix = matrix.reshape(2,6) # error because 2*6=12 != 10 hence it will  not work"
   ]
  },
  {
   "cell_type": "code",
   "execution_count": null,
   "metadata": {},
   "outputs": [],
   "source": [
    "#adding an axis\n",
    "a = np.array([0,1])\n",
    "print(a)\n",
    "a_col = a[:,np.newaxis]\n",
    "print(a_col)"
   ]
  },
  {
   "cell_type": "code",
   "execution_count": null,
   "metadata": {},
   "outputs": [],
   "source": [
    "# stack arrays\n",
    "# stack flat arrays in columns\n",
    "# selection: single item\n",
    "data1 = [1,2,3,4,5]    #defining a list\n",
    "print(data1)           # displaying the list\n",
    "arr1 = np.array(data1) # creating 1-d array\n",
    "print(arr1)            # displaying the array\n",
    "print(arr1[0])         # 0th element,slices like a list\n",
    "print(arr2)\n",
    "print(arr2[0,3])       # data at row no. 0 and col no. 3\n",
    "print(arr2[0][3])      # alternative syntax"
   ]
  },
  {
   "cell_type": "code",
   "execution_count": null,
   "metadata": {},
   "outputs": [],
   "source": [
    "#nd -array slicing\n",
    "print(arr2)    #displaying\n",
    "print(\"-----------------------------------\")\n",
    "print(arr2[0,:]) # full row 0 content\n",
    "print(\"-----------------------------------\")\n",
    "print(arr2[:,0]) # full column 0 content\n",
    "print(\"-----------------------------------\")\n",
    "print(arr2[:, :2]) #columns strictly before index 2\n",
    "print(\"-----------------------------------\")\n",
    "print(arr2[:,2:])  #columns after index 2 inclusive\n",
    "print(\"-----------------------------------\")\n",
    "print(arr2[:,1:4]) #columns between 1(inclusive) and 4(exclusive)\n",
    "print(\"-----------------------------------\")\n",
    "print(arr2[1][1:3])"
   ]
  },
  {
   "cell_type": "code",
   "execution_count": null,
   "metadata": {},
   "outputs": [],
   "source": [
    "# views and copies \n",
    "arr = np.arange(10)\n",
    "print(arr)\n",
    "print(arr[5:8])\n",
    "arr[5:8] = 12 # array is mutable.\n",
    "print(arr)"
   ]
  },
  {
   "cell_type": "code",
   "execution_count": null,
   "metadata": {},
   "outputs": [],
   "source": [
    "arr = np.arange(10)\n",
    "print(arr)\n",
    "arr_view = arr[5:8]    # creating a view of the array and not creating a copy\n",
    "print(arr_view)\n",
    "arr_view[:] = 13        # upadating arr_view not arr\n",
    "print(arr_view)\n",
    "print(arr)              # but modifies both arr,arr_view"
   ]
  },
  {
   "cell_type": "code",
   "execution_count": null,
   "metadata": {},
   "outputs": [],
   "source": [
    "arr = np.arange(10)\n",
    "print(arr)\n",
    "arr_copy = arr[5:8].copy() # creating a copy of the array not creating a view\n",
    "print(arr_copy)\n",
    "arr_copy[:] = 13        #updating both arr_copy not arr\n",
    "print(arr_copy)\n",
    "print(arr)               #modifies only arr_copy not arr"
   ]
  },
  {
   "cell_type": "code",
   "execution_count": null,
   "metadata": {},
   "outputs": [],
   "source": [
    "#using boolean arrays\n",
    "print(arr)\n",
    "print(arr[arr>5])   #those values will get selected who will satisfy the condition given"
   ]
  },
  {
   "cell_type": "code",
   "execution_count": null,
   "metadata": {},
   "outputs": [],
   "source": [
    "#boolean selection return a view which authorizes the modification of the original array\n",
    "print(arr)\n",
    "arr[arr>5] = 0\n",
    "print(arr)"
   ]
  },
  {
   "cell_type": "code",
   "execution_count": null,
   "metadata": {},
   "outputs": [],
   "source": [
    "names = np.array(['bob','Joe','Will','bob'])\n",
    "print(names == 'bob')\n",
    "print(names[names != 'bob'])\n",
    "print(names[(names == 'bob') | (names ==  'Will')]) # keywords and,or will work here for nd-array\n",
    "print(names)\n",
    "names[names != 'bob'] = \"pat\"\n",
    "print(names)"
   ]
  },
  {
   "cell_type": "code",
   "execution_count": null,
   "metadata": {},
   "outputs": [],
   "source": [
    "names = np.array(['bob','Joe','Will','bob'])\n",
    "print(names)\n",
    "print(names[2])\n",
    "names = names[names != names[2]]\n",
    "print(names)\n",
    "print(np.unique(names))"
   ]
  },
  {
   "cell_type": "code",
   "execution_count": null,
   "metadata": {},
   "outputs": [],
   "source": [
    "# vectorized operations.......\n",
    "nums = np.arange(5)\n",
    "print(nums)\n",
    "print(nums * 10)\n",
    "nums_result = nums ** 2\n",
    "print(nums_result)\n",
    "nums_result = np.sqrt(nums)\n",
    "print(nums_result)\n",
    "nums_result = np.ceil(nums)\n",
    "print(nums_result)\n",
    "nums_result = np.floor(nums)\n",
    "print(nums_result)\n",
    "nums_result = np.isnan(nums)  #isnan=> is not-a-number\n",
    "print(nums_result)\n",
    "values = np.array([10,40,50,400])\n",
    "print(np.isnan(values))"
   ]
  },
  {
   "cell_type": "code",
   "execution_count": null,
   "metadata": {},
   "outputs": [],
   "source": [
    "print(nums)\n",
    "print(np.array([1,-2,3,-4,15]))\n",
    "print(nums + np.array([1,2,3,-4,5]))\n",
    "print(\"--------------------Maximum--------------------------\")\n",
    "print(np.maximum(nums,np.array([1,-2,3,-4,15])))\n",
    "print(\"---------------------Minimum------------------------\")\n",
    "print(np.minimum(nums,np.array([1,-2,3,-4,15])))"
   ]
  },
  {
   "cell_type": "code",
   "execution_count": null,
   "metadata": {},
   "outputs": [],
   "source": [
    "# calculating the euclidean distance between 2 vectors\n",
    "vect1 = np.random.randn(10)                              #X=(x1,x2,x3.....x10)\n",
    "vect2 = np.random.randn(10)                              #Y=(y1,y2,........y10)\n",
    "dist = np.sqrt(np.sum((vect1 - vect2) ** 2))             # d = sqrt(sqr(x1-y1)+................)\n",
    "print(vect1)                                             # here randn signifies it can generate both +ve and -ve numbers but rand produces only +ve values \n",
    "print(vect2)\n",
    "print(\"Dist=\",dist)"
   ]
  },
  {
   "cell_type": "code",
   "execution_count": null,
   "metadata": {},
   "outputs": [],
   "source": [
    "np.random.seed(112233)            #seed is used to stop the further changing of random value after its first operation\n",
    "print(np.random.randn(5))\n",
    "print(np.random.rand(5))\n",
    "                                     \n"
   ]
  },
  {
   "cell_type": "code",
   "execution_count": null,
   "metadata": {},
   "outputs": [],
   "source": [
    "np.random.seed(112234)\n",
    "print(np.random.randn(2,3))\n",
    "print(np.random.rand(2,3))\n",
    "# from 0 to 1 then np.random.rand(50)\n",
    "# from 0 to 25 then np.random.rand(50)*25\n",
    "# from 15 to 40 then np.random.rand(50)*25 + 15\n",
    "# from -10 to 10 then np.random.rand(50)*20 -10\n",
    "# general formula np.random.rand(no of numbers)*diff + starting number\n"
   ]
  },
  {
   "cell_type": "code",
   "execution_count": null,
   "metadata": {},
   "outputs": [],
   "source": [
    "print(np.random.randint(0,4,10))    # generate only integer numbers between 0 and (4-1)=3\n",
    "print(np.random.randint(0,2,10))"
   ]
  },
  {
   "cell_type": "code",
   "execution_count": null,
   "metadata": {},
   "outputs": [],
   "source": [
    "# maths and stats\n",
    "rnd = np.random.randn(4,2) #random no. in 4*2 array\n",
    "print(rnd)\n",
    "print(rnd.mean())\n",
    "print(rnd.std())      #calculating standard deviation\n",
    "print(rnd.argmin())   #index of minimum element\n",
    "print(rnd.sum())\n",
    "print(rnd.sum(axis = 0))  #sum of columns\n",
    "print(rnd.sum(axis = 1))  #sum of rows"
   ]
  },
  {
   "cell_type": "code",
   "execution_count": null,
   "metadata": {},
   "outputs": [],
   "source": [
    "#methods for boolean arrays\n",
    "print(rnd)\n",
    "print((rnd > 0 ).sum()) # counts no of posistive values\n",
    "print((rnd > 0 ).any()) #checks is any value is true\n",
    "print((rnd > 0).all()) #checks is all values are true"
   ]
  },
  {
   "cell_type": "code",
   "execution_count": null,
   "metadata": {},
   "outputs": [],
   "source": [
    "# reshape, transpose and flatten\n",
    "nums = np.arange(32).reshape(8,4) #creates 8*4 array\n",
    "print(nums)\n",
    "print(nums.T)               #transpose\n",
    "print(nums.flatten())       #flatten"
   ]
  },
  {
   "cell_type": "code",
   "execution_count": null,
   "metadata": {},
   "outputs": [],
   "source": [
    "#broadcasting\n",
    "\n",
    "a = np.array(([0 , 0 , 0],\n",
    "              [10,10,10],[20,20,20],[30,30,30]))\n",
    "b = np.array([0,1,2])\n",
    "print(a)\n",
    "print(b)\n",
    "print(a+b)"
   ]
  },
  {
   "cell_type": "code",
   "execution_count": null,
   "metadata": {},
   "outputs": [],
   "source": [
    "#broadcasting\n",
    "\n",
    "a = np.array([[0],[10],[20],[30]])\n",
    "b = np.array([0,1,2])\n",
    "print(a)\n",
    "print(b)\n",
    "print(a+b)"
   ]
  },
  {
   "cell_type": "code",
   "execution_count": null,
   "metadata": {},
   "outputs": [],
   "source": [
    "# given the array:\n",
    "x = np.random.randn(4,2) #random numbers in 4*2 array\n",
    "# for each column find the row index of the min value\n",
    "print(x)\n",
    "print(x[0:4,0].argmin())\n",
    "print(x[0:4,1].argmin())\n"
   ]
  },
  {
   "cell_type": "code",
   "execution_count": null,
   "metadata": {},
   "outputs": [],
   "source": [
    "# 6th class starts\n",
    "#Dealing with pandas\n",
    "#It is said that 80% of data analysis is spent on the cleaning and preparing the data,to get it done we use pandas module"
   ]
  },
  {
   "cell_type": "code",
   "execution_count": null,
   "metadata": {},
   "outputs": [],
   "source": [
    "#There are two common data structures pandas can handle with.They are-\n",
    "#1. Series - It is a 1 dimensional labeled array capable of holding any data type(integer,strings,float,python objects etc.).The axis labels are collectively referred to \n",
    "#            as the index\n",
    "#2. DataFrame - It is a 2-dimensional labeled data structure with columns of potentially different types.We think of it like a MS excel spreadsheet, or SQL table, or a dict of series\n",
    "#               objects\n",
    "#Steps:\n",
    "#1. Gathering of data\n",
    "#2. Understanding the data(Knowing the data)\n",
    "#3. Preparing the data(dealing of null values,dealing with duplicate datas,detected outliers and handling,noise factors)\n",
    "\n",
    "\n",
    "\n"
   ]
  },
  {
   "cell_type": "code",
   "execution_count": null,
   "metadata": {},
   "outputs": [],
   "source": [
    "#importing modules\n",
    "import pandas as pd\n",
    "import numpy as np\n",
    "import matplotlib.pyplot as plt"
   ]
  },
  {
   "cell_type": "code",
   "execution_count": null,
   "metadata": {},
   "outputs": [],
   "source": [
    "# creating a DataFrame\n",
    "col_head = [\"name\",\"age\",\"gender\",\"job\"]\n",
    "user1 = pd.DataFrame([[\"alice\",19,\"F\",\"student\"],\n",
    "                      [\"john\",26,\"M\",\"student\"]],columns = col_head)\n",
    "user1\n"
   ]
  },
  {
   "cell_type": "code",
   "execution_count": null,
   "metadata": {},
   "outputs": [],
   "source": [
    "user2 = pd.DataFrame([[\"eric\",22,\"M\",\"student\"],\n",
    "                      [\"paul\",58,\"F\",\"manager\"]],columns = col_head)\n",
    "user2"
   ]
  },
  {
   "cell_type": "code",
   "execution_count": null,
   "metadata": {},
   "outputs": [],
   "source": [
    "user3 = pd.DataFrame(dict(name = [\"peter\",\"julie\"],\n",
    "                           age = [33,44],gender = [\"M\",\"F\"],\n",
    "                           job = [\"engineer\",\"scientist\"]))\n",
    "user3"
   ]
  },
  {
   "cell_type": "code",
   "execution_count": null,
   "metadata": {},
   "outputs": [],
   "source": [
    "dict(name = [\"peter\",\"julie\"],\n",
    "                           age = [33,44],gender = [\"M\",\"F\"],\n",
    "                           job = [\"engineer\",\"scientist\"])"
   ]
  },
  {
   "cell_type": "code",
   "execution_count": null,
   "metadata": {},
   "outputs": [],
   "source": [
    "'''{\n",
    "    \"name\" : \"peter\"\n",
    "    \"age\" : '44'\n",
    "    \"gender\" : 'M'\n",
    "}'''"
   ]
  },
  {
   "cell_type": "code",
   "execution_count": null,
   "metadata": {},
   "outputs": [],
   "source": [
    "#concatenate dataframes\n",
    "my_user = user1.append(user2)\n",
    "my_user"
   ]
  },
  {
   "cell_type": "code",
   "execution_count": null,
   "metadata": {},
   "outputs": [],
   "source": [
    "#concatenate \n",
    "my_user = user1.append(user2,ignore_index = True)     #to ignore pre executing index and start it from first\n",
    "my_user"
   ]
  },
  {
   "cell_type": "code",
   "execution_count": null,
   "metadata": {},
   "outputs": [],
   "source": [
    "#concatenate \n",
    "my_user = user2.append(user1,ignore_index = True)     #to ignore pre executing index and start it from first\n",
    "my_user"
   ]
  },
  {
   "cell_type": "code",
   "execution_count": null,
   "metadata": {},
   "outputs": [],
   "source": [
    "users = pd.concat([user1,user2,user3],ignore_index = True)\n",
    "users"
   ]
  },
  {
   "cell_type": "code",
   "execution_count": null,
   "metadata": {},
   "outputs": [],
   "source": [
    "# join dataFrame\n",
    "user4 = pd.DataFrame(dict(name = [\"alice\",\"john\",\"eric\",\"julie\"],\n",
    "                          height = [165,180,175,171]))\n",
    "user4"
   ]
  },
  {
   "cell_type": "code",
   "execution_count": null,
   "metadata": {},
   "outputs": [],
   "source": [
    "print(users)\n",
    "print(user4)\n",
    "merge_inter = pd.merge(users,user4,on=\"name\")      # inner join based on name\n",
    "merge_inter"
   ]
  },
  {
   "cell_type": "code",
   "execution_count": null,
   "metadata": {},
   "outputs": [],
   "source": [
    "merge_inter = pd.merge(users,user4)      #by default inner join\n",
    "merge_inter"
   ]
  },
  {
   "cell_type": "code",
   "execution_count": null,
   "metadata": {},
   "outputs": [],
   "source": [
    "help(pd.merge)"
   ]
  },
  {
   "cell_type": "code",
   "execution_count": null,
   "metadata": {},
   "outputs": [],
   "source": [
    "merge_inter = pd.merge(users,user4,how = 'outer')      # outer join based on name\n",
    "merge_inter"
   ]
  },
  {
   "cell_type": "code",
   "execution_count": null,
   "metadata": {},
   "outputs": [],
   "source": [
    "# join dataFrame\n",
    "emp1 = pd.DataFrame(dict(name = [\"aaa\",\"bbb\",\"ccc\",\"ddd\"],\n",
    "                          height = [111,222,333,444]))\n",
    "emp1"
   ]
  },
  {
   "cell_type": "code",
   "execution_count": null,
   "metadata": {},
   "outputs": [],
   "source": [
    "# join dataFrame\n",
    "emp2 = pd.DataFrame(dict(name = [\"aaa\",\"bbb\",\"eee\",\"fff\"],\n",
    "                          dept = [\"dept1\",\"dept2\",\"dept3\",\"dept4\"]))\n",
    "emp2"
   ]
  },
  {
   "cell_type": "code",
   "execution_count": null,
   "metadata": {},
   "outputs": [],
   "source": [
    "my_emp = pd.merge(emp1,emp2,\"inner\")\n",
    "my_emp"
   ]
  },
  {
   "cell_type": "code",
   "execution_count": null,
   "metadata": {},
   "outputs": [],
   "source": [
    "my_emp = pd.merge(emp1,emp2,on= \"name\",how =\"inner\")\n",
    "my_emp"
   ]
  },
  {
   "cell_type": "code",
   "execution_count": null,
   "metadata": {},
   "outputs": [],
   "source": [
    "my_emp = pd.merge(emp1,emp2,on=\"name\",how=\"outer\")\n",
    "my_emp"
   ]
  },
  {
   "cell_type": "code",
   "execution_count": null,
   "metadata": {},
   "outputs": [],
   "source": [
    "emp1"
   ]
  },
  {
   "cell_type": "code",
   "execution_count": null,
   "metadata": {},
   "outputs": [],
   "source": [
    "emp2"
   ]
  },
  {
   "cell_type": "code",
   "execution_count": null,
   "metadata": {},
   "outputs": [],
   "source": [
    "my_emp = pd.merge(emp1,emp2,\"left\")\n",
    "my_emp"
   ]
  },
  {
   "cell_type": "code",
   "execution_count": null,
   "metadata": {},
   "outputs": [],
   "source": [
    "my_emp = pd.merge(emp2,emp1,\"left\")\n",
    "my_emp"
   ]
  },
  {
   "cell_type": "code",
   "execution_count": null,
   "metadata": {},
   "outputs": [],
   "source": [
    "my_emp = pd.merge(emp1,emp2,on = \"name\",how=\"right\")\n",
    "my_emp"
   ]
  },
  {
   "cell_type": "code",
   "execution_count": null,
   "metadata": {},
   "outputs": [],
   "source": [
    "my_emp = pd.merge(emp1,emp2,how=\"right\")\n",
    "my_emp"
   ]
  },
  {
   "cell_type": "code",
   "execution_count": null,
   "metadata": {},
   "outputs": [],
   "source": [
    "my_emp = pd.merge(emp2,emp1,on = \"name\",how=\"right\")\n",
    "my_emp"
   ]
  },
  {
   "cell_type": "code",
   "execution_count": null,
   "metadata": {},
   "outputs": [],
   "source": [
    "#summarizing \n",
    "print(users) # prints first and last 30 rows\n",
    "print(\"------------------------------\")\n",
    "print(type(users))  # DataFrame\n",
    "users.head() #print the first 5 rows(by default)\n"
   ]
  },
  {
   "cell_type": "code",
   "execution_count": null,
   "metadata": {},
   "outputs": [],
   "source": [
    "users.head(10) #print the first 10 rows"
   ]
  },
  {
   "cell_type": "code",
   "execution_count": null,
   "metadata": {},
   "outputs": [],
   "source": [
    "print(users.tail()) #prints the last 5 rows\n",
    "print(users.tail(10))  #prints the last 10 rows"
   ]
  },
  {
   "cell_type": "code",
   "execution_count": null,
   "metadata": {},
   "outputs": [],
   "source": [
    "users.describe()   #summarize all numeric columns\n"
   ]
  },
  {
   "cell_type": "code",
   "execution_count": null,
   "metadata": {},
   "outputs": [],
   "source": [
    "users.describe(include=\"all\")   # check if unique works on numeric values"
   ]
  },
  {
   "cell_type": "code",
   "execution_count": null,
   "metadata": {},
   "outputs": [],
   "source": [
    "users.columns"
   ]
  },
  {
   "cell_type": "code",
   "execution_count": null,
   "metadata": {},
   "outputs": [],
   "source": [
    "users.dtypes   #the last line in which dtype:object which means that users is of object type"
   ]
  },
  {
   "cell_type": "code",
   "execution_count": null,
   "metadata": {},
   "outputs": [],
   "source": [
    "users.info()"
   ]
  },
  {
   "cell_type": "code",
   "execution_count": null,
   "metadata": {},
   "outputs": [],
   "source": [
    "users.shape"
   ]
  },
  {
   "cell_type": "code",
   "execution_count": null,
   "metadata": {},
   "outputs": [],
   "source": [
    "users.values"
   ]
  },
  {
   "cell_type": "code",
   "execution_count": null,
   "metadata": {},
   "outputs": [],
   "source": [
    "users.describe"
   ]
  },
  {
   "cell_type": "code",
   "execution_count": null,
   "metadata": {},
   "outputs": [],
   "source": [
    "users.index     #aka labels"
   ]
  },
  {
   "cell_type": "code",
   "execution_count": null,
   "metadata": {},
   "outputs": [],
   "source": [
    "# limit to one(or more) types\n",
    "users.describe(include = [\"object\"])"
   ]
  },
  {
   "cell_type": "code",
   "execution_count": null,
   "metadata": {},
   "outputs": [],
   "source": [
    "#column selection\n",
    "users[\"name\"]"
   ]
  },
  {
   "cell_type": "code",
   "execution_count": null,
   "metadata": {},
   "outputs": [],
   "source": [
    "#multi-column selection\n",
    "users[[\"name\",\"job\"]]"
   ]
  },
  {
   "cell_type": "code",
   "execution_count": null,
   "metadata": {},
   "outputs": [],
   "source": [
    "my_col_list = [\"name\",\"age\",\"job\"]\n",
    "users[my_col_list]"
   ]
  },
  {
   "cell_type": "code",
   "execution_count": 181,
   "metadata": {},
   "outputs": [
    {
     "name": "stdout",
     "output_type": "stream",
     "text": [
      "    name  age gender        job\n",
      "0  alice   19      F    student\n",
      "1   john   26      M    student\n",
      "2   eric   22      M    student\n",
      "3   paul   58      F    manager\n",
      "4  peter   33      M   engineer\n",
      "5  julie   44      F  scientist\n",
      "name        alice\n",
      "age            19\n",
      "gender          F\n",
      "job       student\n",
      "Name: 0, dtype: object\n",
      "eric\n"
     ]
    }
   ],
   "source": [
    "#row selection\n",
    "# iloc is strictly position based\n",
    "print(users)\n",
    "df = users.copy()   # creating a copy of users\n",
    "print(df.iloc[0])          # Name:0 is printing the respective index number\n",
    "print(df.iloc[2,0])        # iloc is used for row wise selection and 2 represent row and 0 represent column"
   ]
  },
  {
   "cell_type": "code",
   "execution_count": 153,
   "metadata": {},
   "outputs": [
    {
     "name": "stdout",
     "output_type": "stream",
     "text": [
      "    name  age gender        job\n",
      "0  alice   19      F    student\n",
      "1   john   26      M    student\n",
      "2   eric   22      M    student\n",
      "3   paul   58      F    manager\n",
      "4  peter   33      M   engineer\n",
      "5  julie   44      F  scientist\n"
     ]
    },
    {
     "data": {
      "text/html": [
       "<div>\n",
       "<style scoped>\n",
       "    .dataframe tbody tr th:only-of-type {\n",
       "        vertical-align: middle;\n",
       "    }\n",
       "\n",
       "    .dataframe tbody tr th {\n",
       "        vertical-align: top;\n",
       "    }\n",
       "\n",
       "    .dataframe thead th {\n",
       "        text-align: right;\n",
       "    }\n",
       "</style>\n",
       "<table border=\"1\" class=\"dataframe\">\n",
       "  <thead>\n",
       "    <tr style=\"text-align: right;\">\n",
       "      <th></th>\n",
       "      <th>name</th>\n",
       "      <th>age</th>\n",
       "      <th>gender</th>\n",
       "      <th>job</th>\n",
       "    </tr>\n",
       "  </thead>\n",
       "  <tbody>\n",
       "    <tr>\n",
       "      <th>0</th>\n",
       "      <td>alice</td>\n",
       "      <td>19</td>\n",
       "      <td>F</td>\n",
       "      <td>student</td>\n",
       "    </tr>\n",
       "    <tr>\n",
       "      <th>1</th>\n",
       "      <td>john</td>\n",
       "      <td>26</td>\n",
       "      <td>M</td>\n",
       "      <td>student</td>\n",
       "    </tr>\n",
       "    <tr>\n",
       "      <th>2</th>\n",
       "      <td>anup</td>\n",
       "      <td>22</td>\n",
       "      <td>M</td>\n",
       "      <td>student</td>\n",
       "    </tr>\n",
       "    <tr>\n",
       "      <th>3</th>\n",
       "      <td>paul</td>\n",
       "      <td>58</td>\n",
       "      <td>F</td>\n",
       "      <td>manager</td>\n",
       "    </tr>\n",
       "    <tr>\n",
       "      <th>4</th>\n",
       "      <td>peter</td>\n",
       "      <td>33</td>\n",
       "      <td>M</td>\n",
       "      <td>engineer</td>\n",
       "    </tr>\n",
       "    <tr>\n",
       "      <th>5</th>\n",
       "      <td>julie</td>\n",
       "      <td>44</td>\n",
       "      <td>F</td>\n",
       "      <td>scientist</td>\n",
       "    </tr>\n",
       "  </tbody>\n",
       "</table>\n",
       "</div>"
      ],
      "text/plain": [
       "    name  age gender        job\n",
       "0  alice   19      F    student\n",
       "1   john   26      M    student\n",
       "2   anup   22      M    student\n",
       "3   paul   58      F    manager\n",
       "4  peter   33      M   engineer\n",
       "5  julie   44      F  scientist"
      ]
     },
     "execution_count": 153,
     "metadata": {},
     "output_type": "execute_result"
    }
   ],
   "source": [
    "print(df)\n",
    "df.iloc[2,0] = \"anup\"\n",
    "df"
   ]
  },
  {
   "cell_type": "code",
   "execution_count": 154,
   "metadata": {},
   "outputs": [
    {
     "data": {
      "text/html": [
       "<div>\n",
       "<style scoped>\n",
       "    .dataframe tbody tr th:only-of-type {\n",
       "        vertical-align: middle;\n",
       "    }\n",
       "\n",
       "    .dataframe tbody tr th {\n",
       "        vertical-align: top;\n",
       "    }\n",
       "\n",
       "    .dataframe thead th {\n",
       "        text-align: right;\n",
       "    }\n",
       "</style>\n",
       "<table border=\"1\" class=\"dataframe\">\n",
       "  <thead>\n",
       "    <tr style=\"text-align: right;\">\n",
       "      <th></th>\n",
       "      <th>name</th>\n",
       "      <th>age</th>\n",
       "      <th>gender</th>\n",
       "      <th>job</th>\n",
       "    </tr>\n",
       "  </thead>\n",
       "  <tbody>\n",
       "    <tr>\n",
       "      <th>0</th>\n",
       "      <td>alice</td>\n",
       "      <td>19</td>\n",
       "      <td>F</td>\n",
       "      <td>student</td>\n",
       "    </tr>\n",
       "    <tr>\n",
       "      <th>1</th>\n",
       "      <td>john</td>\n",
       "      <td>26</td>\n",
       "      <td>M</td>\n",
       "      <td>student</td>\n",
       "    </tr>\n",
       "    <tr>\n",
       "      <th>2</th>\n",
       "      <td>eric</td>\n",
       "      <td>22</td>\n",
       "      <td>M</td>\n",
       "      <td>student</td>\n",
       "    </tr>\n",
       "    <tr>\n",
       "      <th>3</th>\n",
       "      <td>paul</td>\n",
       "      <td>58</td>\n",
       "      <td>F</td>\n",
       "      <td>manager</td>\n",
       "    </tr>\n",
       "    <tr>\n",
       "      <th>4</th>\n",
       "      <td>peter</td>\n",
       "      <td>33</td>\n",
       "      <td>M</td>\n",
       "      <td>engineer</td>\n",
       "    </tr>\n",
       "    <tr>\n",
       "      <th>5</th>\n",
       "      <td>julie</td>\n",
       "      <td>44</td>\n",
       "      <td>F</td>\n",
       "      <td>scientist</td>\n",
       "    </tr>\n",
       "  </tbody>\n",
       "</table>\n",
       "</div>"
      ],
      "text/plain": [
       "    name  age gender        job\n",
       "0  alice   19      F    student\n",
       "1   john   26      M    student\n",
       "2   eric   22      M    student\n",
       "3   paul   58      F    manager\n",
       "4  peter   33      M   engineer\n",
       "5  julie   44      F  scientist"
      ]
     },
     "execution_count": 154,
     "metadata": {},
     "output_type": "execute_result"
    }
   ],
   "source": [
    "users"
   ]
  },
  {
   "cell_type": "code",
   "execution_count": 155,
   "metadata": {},
   "outputs": [
    {
     "data": {
      "text/plain": [
       "4"
      ]
     },
     "execution_count": 155,
     "metadata": {},
     "output_type": "execute_result"
    }
   ],
   "source": [
    "df.shape[1]      # 1 represent no of columns and 0 represent no of rows"
   ]
  },
  {
   "cell_type": "code",
   "execution_count": 156,
   "metadata": {},
   "outputs": [
    {
     "name": "stderr",
     "output_type": "stream",
     "text": [
      "G:\\Anaconda\\lib\\site-packages\\pandas\\core\\generic.py:4405: SettingWithCopyWarning: \n",
      "A value is trying to be set on a copy of a slice from a DataFrame\n",
      "\n",
      "See the caveats in the documentation: http://pandas.pydata.org/pandas-docs/stable/indexing.html#indexing-view-versus-copy\n",
      "  self[name] = value\n"
     ]
    },
    {
     "data": {
      "text/html": [
       "<div>\n",
       "<style scoped>\n",
       "    .dataframe tbody tr th:only-of-type {\n",
       "        vertical-align: middle;\n",
       "    }\n",
       "\n",
       "    .dataframe tbody tr th {\n",
       "        vertical-align: top;\n",
       "    }\n",
       "\n",
       "    .dataframe thead th {\n",
       "        text-align: right;\n",
       "    }\n",
       "</style>\n",
       "<table border=\"1\" class=\"dataframe\">\n",
       "  <thead>\n",
       "    <tr style=\"text-align: right;\">\n",
       "      <th></th>\n",
       "      <th>name</th>\n",
       "      <th>age</th>\n",
       "      <th>gender</th>\n",
       "      <th>job</th>\n",
       "    </tr>\n",
       "  </thead>\n",
       "  <tbody>\n",
       "    <tr>\n",
       "      <th>0</th>\n",
       "      <td>alice</td>\n",
       "      <td>29</td>\n",
       "      <td>F</td>\n",
       "      <td>student</td>\n",
       "    </tr>\n",
       "    <tr>\n",
       "      <th>1</th>\n",
       "      <td>john</td>\n",
       "      <td>36</td>\n",
       "      <td>M</td>\n",
       "      <td>student</td>\n",
       "    </tr>\n",
       "    <tr>\n",
       "      <th>2</th>\n",
       "      <td>anup</td>\n",
       "      <td>32</td>\n",
       "      <td>M</td>\n",
       "      <td>student</td>\n",
       "    </tr>\n",
       "    <tr>\n",
       "      <th>3</th>\n",
       "      <td>paul</td>\n",
       "      <td>68</td>\n",
       "      <td>F</td>\n",
       "      <td>manager</td>\n",
       "    </tr>\n",
       "    <tr>\n",
       "      <th>4</th>\n",
       "      <td>peter</td>\n",
       "      <td>43</td>\n",
       "      <td>M</td>\n",
       "      <td>engineer</td>\n",
       "    </tr>\n",
       "    <tr>\n",
       "      <th>5</th>\n",
       "      <td>julie</td>\n",
       "      <td>54</td>\n",
       "      <td>F</td>\n",
       "      <td>scientist</td>\n",
       "    </tr>\n",
       "  </tbody>\n",
       "</table>\n",
       "</div>"
      ],
      "text/plain": [
       "    name  age gender        job\n",
       "0  alice   29      F    student\n",
       "1   john   36      M    student\n",
       "2   anup   32      M    student\n",
       "3   paul   68      F    manager\n",
       "4  peter   43      M   engineer\n",
       "5  julie   54      F  scientist"
      ]
     },
     "execution_count": 156,
     "metadata": {},
     "output_type": "execute_result"
    }
   ],
   "source": [
    "# increase all ages by the value 10\n",
    "\n",
    "for i in range(df.shape[0]):\n",
    "    myrow = df.iloc[i]\n",
    "    myrow.age += 10\n",
    "    df.iloc[i] = myrow\n",
    "df"
   ]
  },
  {
   "cell_type": "code",
   "execution_count": 157,
   "metadata": {},
   "outputs": [
    {
     "data": {
      "text/html": [
       "<div>\n",
       "<style scoped>\n",
       "    .dataframe tbody tr th:only-of-type {\n",
       "        vertical-align: middle;\n",
       "    }\n",
       "\n",
       "    .dataframe tbody tr th {\n",
       "        vertical-align: top;\n",
       "    }\n",
       "\n",
       "    .dataframe thead th {\n",
       "        text-align: right;\n",
       "    }\n",
       "</style>\n",
       "<table border=\"1\" class=\"dataframe\">\n",
       "  <thead>\n",
       "    <tr style=\"text-align: right;\">\n",
       "      <th></th>\n",
       "      <th>name</th>\n",
       "      <th>age</th>\n",
       "      <th>gender</th>\n",
       "      <th>job</th>\n",
       "    </tr>\n",
       "  </thead>\n",
       "  <tbody>\n",
       "    <tr>\n",
       "      <th>0</th>\n",
       "      <td>alice</td>\n",
       "      <td>19</td>\n",
       "      <td>F</td>\n",
       "      <td>student</td>\n",
       "    </tr>\n",
       "  </tbody>\n",
       "</table>\n",
       "</div>"
      ],
      "text/plain": [
       "    name  age gender      job\n",
       "0  alice   19      F  student"
      ]
     },
     "execution_count": 157,
     "metadata": {},
     "output_type": "execute_result"
    }
   ],
   "source": [
    "#row selection/ filtering\n",
    "#simple logical filtering\n",
    "users[users.age < 20]"
   ]
  },
  {
   "cell_type": "code",
   "execution_count": 158,
   "metadata": {},
   "outputs": [
    {
     "name": "stdout",
     "output_type": "stream",
     "text": [
      "0     True\n",
      "1    False\n",
      "2    False\n",
      "3    False\n",
      "4    False\n",
      "5    False\n",
      "Name: age, dtype: bool\n",
      "    name  age gender      job\n",
      "0  alice   19      F  student\n"
     ]
    }
   ],
   "source": [
    "young_bool = users.age < 20 #create a boolean series\n",
    "print(young_bool)\n",
    "print(users[young_bool])"
   ]
  },
  {
   "cell_type": "code",
   "execution_count": 159,
   "metadata": {},
   "outputs": [
    {
     "data": {
      "text/plain": [
       "0    student\n",
       "Name: job, dtype: object"
      ]
     },
     "execution_count": 159,
     "metadata": {},
     "output_type": "execute_result"
    }
   ],
   "source": [
    "# display one attribute from the selected rows\n",
    "users[users.age < 20].job"
   ]
  },
  {
   "cell_type": "code",
   "execution_count": 160,
   "metadata": {},
   "outputs": [
    {
     "data": {
      "text/html": [
       "<div>\n",
       "<style scoped>\n",
       "    .dataframe tbody tr th:only-of-type {\n",
       "        vertical-align: middle;\n",
       "    }\n",
       "\n",
       "    .dataframe tbody tr th {\n",
       "        vertical-align: top;\n",
       "    }\n",
       "\n",
       "    .dataframe thead th {\n",
       "        text-align: right;\n",
       "    }\n",
       "</style>\n",
       "<table border=\"1\" class=\"dataframe\">\n",
       "  <thead>\n",
       "    <tr style=\"text-align: right;\">\n",
       "      <th></th>\n",
       "      <th>name</th>\n",
       "      <th>age</th>\n",
       "      <th>gender</th>\n",
       "      <th>job</th>\n",
       "    </tr>\n",
       "  </thead>\n",
       "  <tbody>\n",
       "    <tr>\n",
       "      <th>0</th>\n",
       "      <td>alice</td>\n",
       "      <td>19</td>\n",
       "      <td>F</td>\n",
       "      <td>student</td>\n",
       "    </tr>\n",
       "    <tr>\n",
       "      <th>1</th>\n",
       "      <td>john</td>\n",
       "      <td>26</td>\n",
       "      <td>M</td>\n",
       "      <td>student</td>\n",
       "    </tr>\n",
       "    <tr>\n",
       "      <th>2</th>\n",
       "      <td>eric</td>\n",
       "      <td>22</td>\n",
       "      <td>M</td>\n",
       "      <td>student</td>\n",
       "    </tr>\n",
       "    <tr>\n",
       "      <th>4</th>\n",
       "      <td>peter</td>\n",
       "      <td>33</td>\n",
       "      <td>M</td>\n",
       "      <td>engineer</td>\n",
       "    </tr>\n",
       "  </tbody>\n",
       "</table>\n",
       "</div>"
      ],
      "text/plain": [
       "    name  age gender       job\n",
       "0  alice   19      F   student\n",
       "1   john   26      M   student\n",
       "2   eric   22      M   student\n",
       "4  peter   33      M  engineer"
      ]
     },
     "execution_count": 160,
     "metadata": {},
     "output_type": "execute_result"
    }
   ],
   "source": [
    "#using set membership\n",
    "users[users.job.isin([\"student\",\"engineer\"])]"
   ]
  },
  {
   "cell_type": "code",
   "execution_count": 161,
   "metadata": {},
   "outputs": [
    {
     "data": {
      "text/html": [
       "<div>\n",
       "<style scoped>\n",
       "    .dataframe tbody tr th:only-of-type {\n",
       "        vertical-align: middle;\n",
       "    }\n",
       "\n",
       "    .dataframe tbody tr th {\n",
       "        vertical-align: top;\n",
       "    }\n",
       "\n",
       "    .dataframe thead th {\n",
       "        text-align: right;\n",
       "    }\n",
       "</style>\n",
       "<table border=\"1\" class=\"dataframe\">\n",
       "  <thead>\n",
       "    <tr style=\"text-align: right;\">\n",
       "      <th></th>\n",
       "      <th>name</th>\n",
       "      <th>age</th>\n",
       "      <th>gender</th>\n",
       "      <th>job</th>\n",
       "    </tr>\n",
       "  </thead>\n",
       "  <tbody>\n",
       "    <tr>\n",
       "      <th>1</th>\n",
       "      <td>john</td>\n",
       "      <td>26</td>\n",
       "      <td>M</td>\n",
       "      <td>student</td>\n",
       "    </tr>\n",
       "    <tr>\n",
       "      <th>2</th>\n",
       "      <td>eric</td>\n",
       "      <td>22</td>\n",
       "      <td>M</td>\n",
       "      <td>student</td>\n",
       "    </tr>\n",
       "    <tr>\n",
       "      <th>4</th>\n",
       "      <td>peter</td>\n",
       "      <td>33</td>\n",
       "      <td>M</td>\n",
       "      <td>engineer</td>\n",
       "    </tr>\n",
       "  </tbody>\n",
       "</table>\n",
       "</div>"
      ],
      "text/plain": [
       "    name  age gender       job\n",
       "1   john   26      M   student\n",
       "2   eric   22      M   student\n",
       "4  peter   33      M  engineer"
      ]
     },
     "execution_count": 161,
     "metadata": {},
     "output_type": "execute_result"
    }
   ],
   "source": [
    "#using multiple conditions\n",
    "users[(users.age>20) & (users.gender == \"M\")]"
   ]
  },
  {
   "cell_type": "code",
   "execution_count": 162,
   "metadata": {},
   "outputs": [
    {
     "data": {
      "text/html": [
       "<div>\n",
       "<style scoped>\n",
       "    .dataframe tbody tr th:only-of-type {\n",
       "        vertical-align: middle;\n",
       "    }\n",
       "\n",
       "    .dataframe tbody tr th {\n",
       "        vertical-align: top;\n",
       "    }\n",
       "\n",
       "    .dataframe thead th {\n",
       "        text-align: right;\n",
       "    }\n",
       "</style>\n",
       "<table border=\"1\" class=\"dataframe\">\n",
       "  <thead>\n",
       "    <tr style=\"text-align: right;\">\n",
       "      <th></th>\n",
       "      <th>job</th>\n",
       "      <th>name</th>\n",
       "    </tr>\n",
       "  </thead>\n",
       "  <tbody>\n",
       "    <tr>\n",
       "      <th>1</th>\n",
       "      <td>student</td>\n",
       "      <td>john</td>\n",
       "    </tr>\n",
       "    <tr>\n",
       "      <th>2</th>\n",
       "      <td>student</td>\n",
       "      <td>eric</td>\n",
       "    </tr>\n",
       "    <tr>\n",
       "      <th>4</th>\n",
       "      <td>engineer</td>\n",
       "      <td>peter</td>\n",
       "    </tr>\n",
       "  </tbody>\n",
       "</table>\n",
       "</div>"
      ],
      "text/plain": [
       "        job   name\n",
       "1   student   john\n",
       "2   student   eric\n",
       "4  engineer  peter"
      ]
     },
     "execution_count": 162,
     "metadata": {},
     "output_type": "execute_result"
    }
   ],
   "source": [
    "#using multiple conditions\n",
    "users[(users.age>20) & (users.gender == \"M\")][[\"job\",\"name\"]]"
   ]
  },
  {
   "cell_type": "code",
   "execution_count": 163,
   "metadata": {},
   "outputs": [
    {
     "data": {
      "text/html": [
       "<div>\n",
       "<style scoped>\n",
       "    .dataframe tbody tr th:only-of-type {\n",
       "        vertical-align: middle;\n",
       "    }\n",
       "\n",
       "    .dataframe tbody tr th {\n",
       "        vertical-align: top;\n",
       "    }\n",
       "\n",
       "    .dataframe thead th {\n",
       "        text-align: right;\n",
       "    }\n",
       "</style>\n",
       "<table border=\"1\" class=\"dataframe\">\n",
       "  <thead>\n",
       "    <tr style=\"text-align: right;\">\n",
       "      <th></th>\n",
       "      <th>job</th>\n",
       "      <th>name</th>\n",
       "      <th>gender</th>\n",
       "    </tr>\n",
       "  </thead>\n",
       "  <tbody>\n",
       "    <tr>\n",
       "      <th>1</th>\n",
       "      <td>student</td>\n",
       "      <td>john</td>\n",
       "      <td>M</td>\n",
       "    </tr>\n",
       "    <tr>\n",
       "      <th>2</th>\n",
       "      <td>student</td>\n",
       "      <td>eric</td>\n",
       "      <td>M</td>\n",
       "    </tr>\n",
       "    <tr>\n",
       "      <th>4</th>\n",
       "      <td>engineer</td>\n",
       "      <td>peter</td>\n",
       "      <td>M</td>\n",
       "    </tr>\n",
       "  </tbody>\n",
       "</table>\n",
       "</div>"
      ],
      "text/plain": [
       "        job   name gender\n",
       "1   student   john      M\n",
       "2   student   eric      M\n",
       "4  engineer  peter      M"
      ]
     },
     "execution_count": 163,
     "metadata": {},
     "output_type": "execute_result"
    }
   ],
   "source": [
    "#using multiple conditions\n",
    "users[(users.age>20) & (users.gender == \"M\")][[\"job\",\"name\",\"gender\"]]"
   ]
  },
  {
   "cell_type": "code",
   "execution_count": 164,
   "metadata": {},
   "outputs": [
    {
     "data": {
      "text/plain": [
       "0    19\n",
       "2    22\n",
       "1    26\n",
       "4    33\n",
       "5    44\n",
       "3    58\n",
       "Name: age, dtype: int64"
      ]
     },
     "execution_count": 164,
     "metadata": {},
     "output_type": "execute_result"
    }
   ],
   "source": [
    "#sorting\n",
    "df = users.copy()\n",
    "df.age.sort_values() #only works for a series\n"
   ]
  },
  {
   "cell_type": "code",
   "execution_count": 165,
   "metadata": {},
   "outputs": [
    {
     "data": {
      "text/html": [
       "<div>\n",
       "<style scoped>\n",
       "    .dataframe tbody tr th:only-of-type {\n",
       "        vertical-align: middle;\n",
       "    }\n",
       "\n",
       "    .dataframe tbody tr th {\n",
       "        vertical-align: top;\n",
       "    }\n",
       "\n",
       "    .dataframe thead th {\n",
       "        text-align: right;\n",
       "    }\n",
       "</style>\n",
       "<table border=\"1\" class=\"dataframe\">\n",
       "  <thead>\n",
       "    <tr style=\"text-align: right;\">\n",
       "      <th></th>\n",
       "      <th>name</th>\n",
       "      <th>age</th>\n",
       "      <th>gender</th>\n",
       "      <th>job</th>\n",
       "    </tr>\n",
       "  </thead>\n",
       "  <tbody>\n",
       "    <tr>\n",
       "      <th>3</th>\n",
       "      <td>paul</td>\n",
       "      <td>58</td>\n",
       "      <td>F</td>\n",
       "      <td>manager</td>\n",
       "    </tr>\n",
       "    <tr>\n",
       "      <th>5</th>\n",
       "      <td>julie</td>\n",
       "      <td>44</td>\n",
       "      <td>F</td>\n",
       "      <td>scientist</td>\n",
       "    </tr>\n",
       "    <tr>\n",
       "      <th>4</th>\n",
       "      <td>peter</td>\n",
       "      <td>33</td>\n",
       "      <td>M</td>\n",
       "      <td>engineer</td>\n",
       "    </tr>\n",
       "    <tr>\n",
       "      <th>1</th>\n",
       "      <td>john</td>\n",
       "      <td>26</td>\n",
       "      <td>M</td>\n",
       "      <td>student</td>\n",
       "    </tr>\n",
       "    <tr>\n",
       "      <th>2</th>\n",
       "      <td>eric</td>\n",
       "      <td>22</td>\n",
       "      <td>M</td>\n",
       "      <td>student</td>\n",
       "    </tr>\n",
       "    <tr>\n",
       "      <th>0</th>\n",
       "      <td>alice</td>\n",
       "      <td>19</td>\n",
       "      <td>F</td>\n",
       "      <td>student</td>\n",
       "    </tr>\n",
       "  </tbody>\n",
       "</table>\n",
       "</div>"
      ],
      "text/plain": [
       "    name  age gender        job\n",
       "3   paul   58      F    manager\n",
       "5  julie   44      F  scientist\n",
       "4  peter   33      M   engineer\n",
       "1   john   26      M    student\n",
       "2   eric   22      M    student\n",
       "0  alice   19      F    student"
      ]
     },
     "execution_count": 165,
     "metadata": {},
     "output_type": "execute_result"
    }
   ],
   "source": [
    "df.sort_values(by=\"age\",ascending=False)   # for descending , ascending is by default"
   ]
  },
  {
   "cell_type": "code",
   "execution_count": 166,
   "metadata": {},
   "outputs": [
    {
     "name": "stdout",
     "output_type": "stream",
     "text": [
      "    name  age gender        job\n",
      "0  alice   19      F    student\n",
      "1   john   26      M    student\n",
      "2   eric   22      M    student\n",
      "3   paul   58      F    manager\n",
      "4  peter   33      M   engineer\n",
      "5  julie   44      F  scientist\n",
      "    name  age gender        job\n",
      "0  alice   19      F    student\n",
      "1   john   26      M    student\n",
      "2   eric   22      M    student\n",
      "3   paul   58      F    manager\n",
      "4  peter   33      M   engineer\n",
      "5  julie   44      F  scientist\n"
     ]
    }
   ],
   "source": [
    "#sort by multiple attributes\n",
    "print(df)\n",
    "df.sort_values(by=['job','age'])  # first sorting will be done on job and then for the similar job then sorting will be done as in case of student\n",
    "print(df)    # here .sort_values function doesnot make df change or modified "
   ]
  },
  {
   "cell_type": "code",
   "execution_count": 167,
   "metadata": {},
   "outputs": [
    {
     "name": "stdout",
     "output_type": "stream",
     "text": [
      "    name  age gender        job\n",
      "0  alice   19      F    student\n",
      "1   john   26      M    student\n",
      "2   eric   22      M    student\n",
      "3   paul   58      F    manager\n",
      "4  peter   33      M   engineer\n",
      "5  julie   44      F  scientist\n",
      "    name  age gender        job\n",
      "4  peter   33      M   engineer\n",
      "3   paul   58      F    manager\n",
      "5  julie   44      F  scientist\n",
      "0  alice   19      F    student\n",
      "2   eric   22      M    student\n",
      "1   john   26      M    student\n"
     ]
    }
   ],
   "source": [
    "#modify df itself\n",
    "print(df)\n",
    "df.sort_values(by=['job','age'],inplace=True)         # inplace function is by default false\n",
    "print(df)                                             #here df itself is sorted i.e its permanent "
   ]
  },
  {
   "cell_type": "code",
   "execution_count": 170,
   "metadata": {},
   "outputs": [
    {
     "name": "stdout",
     "output_type": "stream",
     "text": [
      "     name variable      value\n",
      "0   peter      age         33\n",
      "1    paul      age         58\n",
      "2   julie      age         44\n",
      "3   alice      age         19\n",
      "4    eric      age         22\n",
      "5    john      age         26\n",
      "6   peter   gender          M\n",
      "7    paul   gender          F\n",
      "8   julie   gender          F\n",
      "9   alice   gender          F\n",
      "10   eric   gender          M\n",
      "11   john   gender          M\n",
      "12  peter      job   engineer\n",
      "13   paul      job    manager\n",
      "14  julie      job  scientist\n",
      "15  alice      job    student\n",
      "16   eric      job    student\n",
      "17   john      job    student\n"
     ]
    }
   ],
   "source": [
    "# reshaping by pivoting\n",
    "# \"Unpivot\" a DataFrame from wide format to long stacked format\n",
    "stacked = pd.melt(df,id_vars = \"name\",\n",
    "                  var_name = \"variable\",\n",
    "                   value_name = \"value\")\n",
    "print(stacked)"
   ]
  },
  {
   "cell_type": "code",
   "execution_count": 173,
   "metadata": {},
   "outputs": [
    {
     "name": "stdout",
     "output_type": "stream",
     "text": [
      "variable age gender        job\n",
      "name                          \n",
      "alice     19      F    student\n",
      "eric      22      M    student\n",
      "john      26      M    student\n",
      "julie     44      F  scientist\n",
      "paul      58      F    manager\n",
      "peter     33      M   engineer\n"
     ]
    }
   ],
   "source": [
    "# \"pivots\" a Dataframe from Long stacked format to wide format\n",
    "print(stacked.pivot(index = \"name\",columns=\"variable\",values=\"value\"))"
   ]
  },
  {
   "cell_type": "code",
   "execution_count": 182,
   "metadata": {},
   "outputs": [
    {
     "data": {
      "text/html": [
       "<div>\n",
       "<style scoped>\n",
       "    .dataframe tbody tr th:only-of-type {\n",
       "        vertical-align: middle;\n",
       "    }\n",
       "\n",
       "    .dataframe tbody tr th {\n",
       "        vertical-align: top;\n",
       "    }\n",
       "\n",
       "    .dataframe thead th {\n",
       "        text-align: right;\n",
       "    }\n",
       "</style>\n",
       "<table border=\"1\" class=\"dataframe\">\n",
       "  <thead>\n",
       "    <tr style=\"text-align: right;\">\n",
       "      <th></th>\n",
       "      <th>name</th>\n",
       "      <th>age</th>\n",
       "      <th>gender</th>\n",
       "      <th>job</th>\n",
       "    </tr>\n",
       "  </thead>\n",
       "  <tbody>\n",
       "    <tr>\n",
       "      <th>0</th>\n",
       "      <td>alice</td>\n",
       "      <td>19</td>\n",
       "      <td>F</td>\n",
       "      <td>student</td>\n",
       "    </tr>\n",
       "    <tr>\n",
       "      <th>1</th>\n",
       "      <td>john</td>\n",
       "      <td>26</td>\n",
       "      <td>M</td>\n",
       "      <td>student</td>\n",
       "    </tr>\n",
       "    <tr>\n",
       "      <th>2</th>\n",
       "      <td>eric</td>\n",
       "      <td>22</td>\n",
       "      <td>M</td>\n",
       "      <td>student</td>\n",
       "    </tr>\n",
       "    <tr>\n",
       "      <th>3</th>\n",
       "      <td>paul</td>\n",
       "      <td>58</td>\n",
       "      <td>F</td>\n",
       "      <td>manager</td>\n",
       "    </tr>\n",
       "    <tr>\n",
       "      <th>4</th>\n",
       "      <td>peter</td>\n",
       "      <td>33</td>\n",
       "      <td>M</td>\n",
       "      <td>engineer</td>\n",
       "    </tr>\n",
       "    <tr>\n",
       "      <th>5</th>\n",
       "      <td>julie</td>\n",
       "      <td>44</td>\n",
       "      <td>F</td>\n",
       "      <td>scientist</td>\n",
       "    </tr>\n",
       "    <tr>\n",
       "      <th>6</th>\n",
       "      <td>alice</td>\n",
       "      <td>19</td>\n",
       "      <td>F</td>\n",
       "      <td>student</td>\n",
       "    </tr>\n",
       "  </tbody>\n",
       "</table>\n",
       "</div>"
      ],
      "text/plain": [
       "    name  age gender        job\n",
       "0  alice   19      F    student\n",
       "1   john   26      M    student\n",
       "2   eric   22      M    student\n",
       "3   paul   58      F    manager\n",
       "4  peter   33      M   engineer\n",
       "5  julie   44      F  scientist\n",
       "6  alice   19      F    student"
      ]
     },
     "execution_count": 182,
     "metadata": {},
     "output_type": "execute_result"
    }
   ],
   "source": [
    "# quality control: duplicate data\n",
    "df = users.append(users.iloc[0],ignore_index=True)\n",
    "df\n"
   ]
  },
  {
   "cell_type": "code",
   "execution_count": 183,
   "metadata": {},
   "outputs": [
    {
     "name": "stdout",
     "output_type": "stream",
     "text": [
      "1\n",
      "    name  age gender      job\n",
      "6  alice   19      F  student\n",
      "0    False\n",
      "1    False\n",
      "2    False\n",
      "3    False\n",
      "4    False\n",
      "5    False\n",
      "6     True\n",
      "Name: age, dtype: bool\n",
      "1\n",
      "    name  age gender        job\n",
      "0  alice   19      F    student\n",
      "1   john   26      M    student\n",
      "2   eric   22      M    student\n",
      "3   paul   58      F    manager\n",
      "4  peter   33      M   engineer\n",
      "5  julie   44      F  scientist\n"
     ]
    }
   ],
   "source": [
    "print(df.duplicated().sum()) #count of duplicates\n",
    "print(df[df.duplicated()])   #only show duplicates\n",
    "#checking single column for duplicates\n",
    "print(df.age.duplicated())\n",
    "#specify columns for finding duplicates\n",
    "print(df.gender.duplicated())  # here male and female are already recorded hence all other values are false\n",
    "print(df.duplicated(['age','gender']).sum())   #checking based on multiple attributes\n",
    "#drop duplicate rows\n",
    "df = df.drop_duplicates()\n",
    "print(df)"
   ]
  },
  {
   "cell_type": "code",
   "execution_count": null,
   "metadata": {},
   "outputs": [],
   "source": []
  },
  {
   "cell_type": "code",
   "execution_count": null,
   "metadata": {},
   "outputs": [],
   "source": []
  },
  {
   "cell_type": "code",
   "execution_count": null,
   "metadata": {},
   "outputs": [],
   "source": []
  },
  {
   "cell_type": "code",
   "execution_count": null,
   "metadata": {},
   "outputs": [],
   "source": []
  }
 ],
 "metadata": {
  "kernelspec": {
   "display_name": "Python 3",
   "language": "python",
   "name": "python3"
  },
  "language_info": {
   "codemirror_mode": {
    "name": "ipython",
    "version": 3
   },
   "file_extension": ".py",
   "mimetype": "text/x-python",
   "name": "python",
   "nbconvert_exporter": "python",
   "pygments_lexer": "ipython3",
   "version": "3.7.0"
  }
 },
 "nbformat": 4,
 "nbformat_minor": 2
}
