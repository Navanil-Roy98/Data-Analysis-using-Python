{
 "cells": [
  {
   "cell_type": "code",
   "execution_count": null,
   "metadata": {},
   "outputs": [],
   "source": [
    "print(\"Hello\") # this is a comment line"
   ]
  },
  {
   "cell_type": "code",
   "execution_count": null,
   "metadata": {},
   "outputs": [],
   "source": [
    "'''This is a multiline comment\n",
    "block\n",
    "''' "
   ]
  },
  {
   "cell_type": "code",
   "execution_count": null,
   "metadata": {},
   "outputs": [],
   "source": [
    "'''\n",
    "hi i am\n",
    "navanil'''"
   ]
  },
  {
   "cell_type": "code",
   "execution_count": null,
   "metadata": {},
   "outputs": [],
   "source": [
    "i = 1"
   ]
  },
  {
   "cell_type": "code",
   "execution_count": null,
   "metadata": {},
   "outputs": [],
   "source": [
    "for i in range(0,10):\n",
    "    print (i)\n",
    "    "
   ]
  },
  {
   "cell_type": "code",
   "execution_count": null,
   "metadata": {},
   "outputs": [],
   "source": [
    "print(\"Hello\")\n",
    "print(\"World\");"
   ]
  },
  {
   "cell_type": "code",
   "execution_count": null,
   "metadata": {},
   "outputs": [],
   "source": [
    "print(\"Hello \" * 5)\n",
    "print(\"World\")"
   ]
  },
  {
   "cell_type": "code",
   "execution_count": null,
   "metadata": {},
   "outputs": [],
   "source": [
    "a = int(input(\"Enter a no:\"))"
   ]
  },
  {
   "cell_type": "code",
   "execution_count": null,
   "metadata": {},
   "outputs": [],
   "source": [
    "print(a)"
   ]
  },
  {
   "cell_type": "code",
   "execution_count": null,
   "metadata": {},
   "outputs": [],
   "source": [
    "emp_name = input(\"Enter a name:\")\n",
    "emp_surname = input(\"Enter surname name\")\n",
    "print(\"The employee name is \",\\\n",
    "      emp_name+ \" \" +\\\n",
    "      emp_surname)\n"
   ]
  },
  {
   "cell_type": "code",
   "execution_count": null,
   "metadata": {},
   "outputs": [],
   "source": [
    "a = 10\n",
    "b = 40"
   ]
  },
  {
   "cell_type": "code",
   "execution_count": null,
   "metadata": {},
   "outputs": [],
   "source": [
    "print(a,b)"
   ]
  },
  {
   "cell_type": "code",
   "execution_count": null,
   "metadata": {},
   "outputs": [],
   "source": [
    "c = 100\n",
    "d = 85"
   ]
  },
  {
   "cell_type": "code",
   "execution_count": null,
   "metadata": {},
   "outputs": [],
   "source": [
    "print(c,d)"
   ]
  },
  {
   "cell_type": "code",
   "execution_count": null,
   "metadata": {},
   "outputs": [],
   "source": [
    "a = int(input(\"Enter the first number -->\"))\n",
    "b = int(input(\"Enter second number -->\"))\n",
    "sum = a + b\n",
    "print(sum)"
   ]
  },
  {
   "cell_type": "code",
   "execution_count": null,
   "metadata": {},
   "outputs": [],
   "source": [
    "a = input(\"Enter the first number -->\")\n",
    "b = input(\"Enter second number -->\")\n",
    "sum = int(a) + int(b)\n",
    "print(sum)"
   ]
  },
  {
   "cell_type": "code",
   "execution_count": null,
   "metadata": {},
   "outputs": [],
   "source": [
    "a = int(input(\"Enter the first number -->\"))\n",
    "b = int(input(\"Enter second number -->\"))\n",
    "sum = a + b\n",
    "print(\"Num1 = \",a,\",Num2 = \",b,\"and Total = \",sum)"
   ]
  },
  {
   "cell_type": "code",
   "execution_count": null,
   "metadata": {},
   "outputs": [],
   "source": [
    "a = int(input(\"Enter the first number -->\"))\n",
    "b = int(input(\"Enter second number -->\"))\n",
    "sum = a + b\n",
    "print(\"Sum of {} and {} is {}\".format(a,b,sum))\n",
    "print(\"Sum of %d and %d is %d\"%(a,b,sum))\n",
    "print(\"Sum of {0} and {1} is {2}\".format(a,b,sum))\n",
    "print(\"Sum of {2} and {1} is {0}\".format(sum,b,a))\n",
    "print(\"Sum of {x} and {y} is {z}\".format(x=a,y=b,z=sum))"
   ]
  },
  {
   "cell_type": "code",
   "execution_count": null,
   "metadata": {},
   "outputs": [],
   "source": [
    "x = 100\n",
    "y = 200"
   ]
  },
  {
   "cell_type": "code",
   "execution_count": null,
   "metadata": {},
   "outputs": [],
   "source": [
    "print(x,y)"
   ]
  },
  {
   "cell_type": "code",
   "execution_count": null,
   "metadata": {},
   "outputs": [],
   "source": [
    "x = 500\n",
    "y = 500"
   ]
  },
  {
   "cell_type": "code",
   "execution_count": null,
   "metadata": {},
   "outputs": [],
   "source": [
    "a = 101\n",
    "b = 50\n",
    "print(\"a+b=\",a+b)\n",
    "print(\"a-b=\",a-b)\n",
    "print(\"a*b=\",a*b)\n",
    "print(\"a/b=\",a/b)\n",
    "print(\"a//b=\",a//b)\n",
    "print(\"a%b=\",a%b)\n",
    "print(\"a**b=\",a**b)"
   ]
  },
  {
   "cell_type": "code",
   "execution_count": null,
   "metadata": {},
   "outputs": [],
   "source": [
    "num1 = int(input(\"Enter the first number -->\"))\n",
    "num2 = int(input(\"Enter second number -->\"))\n",
    "if (num1 > num2):\n",
    "     print(\"The first number is maximum...\")\n",
    "     print(num1)\n",
    "elif(num1 < num2):\n",
    "    print(\"The second number is maximum...\")\n",
    "    print(num2)\n",
    "else:\n",
    "    print(\"Both are same\")\n",
    "    print(num1,num2)\n",
    "print(\"End of program\")\n",
    "    "
   ]
  },
  {
   "cell_type": "code",
   "execution_count": null,
   "metadata": {},
   "outputs": [],
   "source": [
    "#take two integers from keyboard as input display menu\n",
    "'''-> Addition\n",
    "-> Substraction\n",
    "-> Multiplication\n",
    "->Division\n",
    "-> Remainder\n",
    "integer division\n",
    "exponentiation\n",
    "exit\n",
    "'''"
   ]
  },
  {
   "cell_type": "code",
   "execution_count": null,
   "metadata": {},
   "outputs": [],
   "source": [
    "print(\"1.Addition\")\n",
    "print(\"2.Subtraction\")\n",
    "print(\"3.Multiplication\")\n",
    "print(\"4.Division\")\n",
    "print(\"5.Remainder\")\n",
    "print(\"6.Integer Division\")\n",
    "print(\"7.Exponentiation\")\n",
    "print(\"0.Exit\")"
   ]
  },
  {
   "cell_type": "code",
   "execution_count": null,
   "metadata": {},
   "outputs": [],
   "source": [
    "var = 1\n",
    "while(var == 1):\n",
    "\n",
    "    a = int(input(\"Enter the first number -->\"))\n",
    "    b = int(input(\"Enter second number -->\"))\n",
    "    print(\"1.Addition\")\n",
    "    print(\"2.Subtraction\")\n",
    "    print(\"3.Multiplication\")\n",
    "    print(\"4.Division\")\n",
    "    print(\"5.Remainder\")\n",
    "    print(\"6.Integer Division\")\n",
    "    print(\"7.Exponentiation\")\n",
    "    print(\"0.Exit\")\n",
    "    ch = int(input(\"Enter choice\"))\n",
    "    if(ch == 1):\n",
    "        print(\"Sum of\",a,\"and\",b,\"is\",a+b)\n",
    "    elif(ch == 2):\n",
    "        print(\"Subtration of\",a,\"and\",b,\"is\",a-b)\n",
    "    elif(ch == 3):\n",
    "        print(\"Multiplication of\",a,\"and\",b,\"is\",a*b)\n",
    "    elif(ch == 4):\n",
    "        if(b != 0):\n",
    "            print(\"Division of\",a,\"and\",b,\"is\",a/b)\n",
    "        else:\n",
    "            print(\"Wrong input\")\n",
    "    elif(ch == 5):\n",
    "        if(b != 0):\n",
    "            print(\"Remainder of\",a,\"and\",b,\"is\",a%b)\n",
    "        else:\n",
    "            print(\"Wrong input\")\n",
    "\n",
    "    elif(ch == 6):\n",
    "        if(b != 0):\n",
    "            print(\"Integer division of\",a,\"and\",b,\"is\",a//b)\n",
    "        else:\n",
    "            print(\"Wrong Input\")\n",
    "    elif(ch == 7):\n",
    "        print(\"Exponentiation of\",a,\"and\",b,\"is\",a**b)\n",
    "    elif(ch == 0):\n",
    "        break;\n",
    "    else:\n",
    "        print(\"Wrong choice\")"
   ]
  },
  {
   "cell_type": "code",
   "execution_count": null,
   "metadata": {},
   "outputs": [],
   "source": [
    "#LOOPING 2ND CLASS "
   ]
  },
  {
   "cell_type": "code",
   "execution_count": null,
   "metadata": {},
   "outputs": [],
   "source": [
    "i = 1\n",
    "while(i <= 5):\n",
    "    print(\"Executing for i = {}\".format(i))\n",
    "    i+=1\n",
    "print(\"End of the program...\")"
   ]
  },
  {
   "cell_type": "code",
   "execution_count": null,
   "metadata": {},
   "outputs": [],
   "source": [
    "i = 1\n",
    "while(i <= 5):\n",
    "    print(\"India \"*i)\n",
    "    i+=1\n"
   ]
  },
  {
   "cell_type": "code",
   "execution_count": null,
   "metadata": {},
   "outputs": [],
   "source": [
    "n = int(input(\"Enter the no of lines:\"))\n",
    "i = 1\n",
    "while(i <= n):\n",
    "    print(\" \"*(n-i),end=\"\")\n",
    "    print(\"*\"*(2*i - 1),end = \"\")\n",
    "    print(\"\")\n",
    "    i+=1\n"
   ]
  },
  {
   "cell_type": "code",
   "execution_count": null,
   "metadata": {},
   "outputs": [],
   "source": [
    "n = int(input(\"Enter the no of lines:\"))\n",
    "i = n\n",
    "while(i>=1):\n",
    "    print(\" \"*(n-i),end=\"\")\n",
    "    print(\"*\"*(2*i - 1),end=\"\")\n",
    "    print(\"\")\n",
    "    i-=1\n",
    "\n",
    "i = 2\n",
    "while(i <= n):\n",
    "    print(\" \"*(n-i),end=\"\")\n",
    "    print(\"*\"*(2*i - 1),end = \"\")\n",
    "    print(\"\")\n",
    "    i+=1\n",
    "    \n",
    "    "
   ]
  },
  {
   "cell_type": "code",
   "execution_count": null,
   "metadata": {},
   "outputs": [],
   "source": [
    "n = 0\n",
    "while(n%2 == 0):\n",
    "    n = int(input(\"Enter the no of lines:\"))\n",
    "\n",
    "m = (n+1)/2\n",
    "m = int(m)\n",
    "i = 1\n",
    "while(i<=n):\n",
    "    if(i > m):\n",
    "        b = n-i\n",
    "        s = 2*(i-m) + 1\n",
    "    else:\n",
    "        b = i - 1\n",
    "        s = 2*(m-i) + 1\n",
    "    print(\" \"*b,end=\"\")\n",
    "    print(\"*\"*s,end=\"\")\n",
    "    print(\"\")\n",
    "    i+=1\n",
    "            \n",
    "\n",
    "            \n",
    "    \n"
   ]
  },
  {
   "cell_type": "code",
   "execution_count": null,
   "metadata": {},
   "outputs": [],
   "source": [
    "for i in [11,22,33,44,55,66]:\n",
    "    print(\"i=\",i)"
   ]
  },
  {
   "cell_type": "code",
   "execution_count": null,
   "metadata": {},
   "outputs": [],
   "source": [
    "for i in range(0,5):\n",
    "    print(\"i =\",i)"
   ]
  },
  {
   "cell_type": "code",
   "execution_count": null,
   "metadata": {},
   "outputs": [],
   "source": [
    "for i in range(0,5,2):\n",
    "    print(\"i = {}\".format(i))\n",
    "print(\"#######\")\n",
    "print(i)"
   ]
  },
  {
   "cell_type": "code",
   "execution_count": null,
   "metadata": {},
   "outputs": [],
   "source": [
    "for i in range(5,1,-2):\n",
    "    print(\"i =\",i)\n",
    "    "
   ]
  },
  {
   "cell_type": "code",
   "execution_count": null,
   "metadata": {},
   "outputs": [],
   "source": [
    "n = 0\n",
    "while(n%2 == 0):\n",
    "    n = int(input(\"Enter the no of lines:\"))\n",
    "\n",
    "m = (n+1)/2\n",
    "m = int(m)\n",
    "i = 1\n",
    "for i in range(1,n+1):\n",
    "    if(i > m):\n",
    "        b = n-i\n",
    "        s = 2*(i-m) + 1\n",
    "    else:\n",
    "        b = i - 1\n",
    "        s = 2*(m-i) + 1\n",
    "    print(\" \"*b,end=\"\")\n",
    "    print(\"*\"*s,end=\"\")\n",
    "    print(\"\")\n",
    "    \n",
    "            \n",
    "\n",
    "            \n",
    "    \n"
   ]
  },
  {
   "cell_type": "code",
   "execution_count": null,
   "metadata": {},
   "outputs": [],
   "source": [
    "#Magic no\n",
    "n = int(input(\"Enter the number:\"))\n",
    "t = n\n",
    "while(t>9):\n",
    "    print(\"Doing again...\")\n",
    "    s = 0\n",
    "    while(t != 0):\n",
    "        d = t%10\n",
    "        t = t//10\n",
    "        s = s + d\n",
    "    t = s\n",
    "print(\"Output = \",t)\n"
   ]
  },
  {
   "cell_type": "code",
   "execution_count": null,
   "metadata": {},
   "outputs": [],
   "source": [
    "# sum = 1+2+3+4+10+5+6+7+8+28+9....... n terms\n",
    "n = int(input(\"Enter the no of terms:\"))\n",
    "s=0\n",
    "m_s = 0\n",
    "c=0\n",
    "term = 1\n",
    "for i in range(1,n+1):\n",
    "    if(i%5 != 0): \n",
    "        s = s + term\n",
    "        m_s = m_s + term\n",
    "        print(\"if-m_s \",m_s)\n",
    "        term = term + 1\n",
    "        print(\"if-s \",s)\n",
    "    else:\n",
    "        s = s + m_s\n",
    "        print(\"els-s \",s)\n",
    "        print(\"els-m_s \",m_s)\n",
    "        m_s = 0\n",
    "\n",
    "print(\"Sum = \",s)\n",
    "   \n",
    "\n",
    "\n"
   ]
  },
  {
   "cell_type": "code",
   "execution_count": null,
   "metadata": {},
   "outputs": [],
   "source": [
    "n = int(input(\"Enter the no of terms:\"))\n",
    "fsum = tsum = 0\n",
    "term =1\n",
    "for i in range(1,n+1):\n",
    "    if(i%5 ==0 ):\n",
    "        fsum += tsum\n",
    "        print(\"Adding tsum --> \",tsum)\n",
    "        tsum = 0\n",
    "    else:\n",
    "        fsum += term\n",
    "        print(\"Adding term --> \",term)\n",
    "        tsum+= term\n",
    "        term+= 1\n",
    "    \n",
    "print(fsum)"
   ]
  },
  {
   "cell_type": "code",
   "execution_count": null,
   "metadata": {},
   "outputs": [],
   "source": [
    "#STRINGS"
   ]
  },
  {
   "cell_type": "code",
   "execution_count": null,
   "metadata": {},
   "outputs": [],
   "source": [
    "my_str = \"university\"\n",
    "print(my_str)\n",
    "print(my_str[-5:-8:-1])\n",
    "print(my_str[::-1])\n",
    "print(my_str[4:8])\n",
    "print(my_str[9:5:-2])\n",
    "print(my_str[-7:6:3])"
   ]
  },
  {
   "cell_type": "code",
   "execution_count": null,
   "metadata": {},
   "outputs": [],
   "source": [
    "import math \n",
    "a = 4.6\n",
    "print(math.ceil(a))\n",
    "print(math.floor(a))\n",
    "b = 9\n",
    "print(math.sqrt(b))\n",
    "print(math.exp(3.0))\n",
    "print(math.log(2.0))\n",
    "print(math.pow(2.0,3.0))\n",
    "print(math.sin(0))\n",
    "print(math.cos(0))\n",
    "print(math.tan(45))\n",
    "print(abs(-4.5))\n"
   ]
  },
  {
   "cell_type": "code",
   "execution_count": null,
   "metadata": {},
   "outputs": [],
   "source": [
    "mysqrt = math.sqrt  #only in py3.7\n",
    "print(mysqrt(16))"
   ]
  },
  {
   "cell_type": "code",
   "execution_count": null,
   "metadata": {},
   "outputs": [],
   "source": [
    "my_str = \"   caLCuttA uNIvErsity\"\n",
    "print(my_str)\n",
    "print(my_str.capitalize())\n",
    "print(my_str.upper())\n",
    "print(my_str.lower())\n",
    "print(my_str.swapcase())\n",
    "print(my_str.lstrip())"
   ]
  },
  {
   "cell_type": "code",
   "execution_count": null,
   "metadata": {},
   "outputs": [],
   "source": [
    "my_str = \"1234\"\n",
    "print(my_str.isalpha())\n",
    "print(my_str.isdigit())\n",
    "print(my_str.isnumeric())\n",
    "print(my_str.isalnum())"
   ]
  },
  {
   "cell_type": "code",
   "execution_count": null,
   "metadata": {},
   "outputs": [],
   "source": [
    "my_str = \"abcd1234\"\n",
    "print(my_str.isalpha())\n",
    "print(my_str.isdigit())\n",
    "print(my_str.isnumeric())\n",
    "print(my_str.isalnum())"
   ]
  },
  {
   "cell_type": "code",
   "execution_count": null,
   "metadata": {},
   "outputs": [],
   "source": [
    "my_str = \"ABCD\"\n",
    "print(my_str.isupper())\n",
    "print(my_str.islower())"
   ]
  },
  {
   "cell_type": "code",
   "execution_count": null,
   "metadata": {},
   "outputs": [],
   "source": [
    "my_str = \"university\"\n",
    "print(my_str.find(\"vir\"))\n",
    "print(my_str.index(\"vir\"))"
   ]
  },
  {
   "cell_type": "code",
   "execution_count": null,
   "metadata": {},
   "outputs": [],
   "source": [
    "my_str = \"university\"\n",
    "print(my_str.startswith(\"ver\"))\n",
    "print(my_str.startswith(\"ver\",3,6))\n",
    "print(my_str.startswith(\"ver\",3,10))"
   ]
  },
  {
   "cell_type": "code",
   "execution_count": null,
   "metadata": {},
   "outputs": [],
   "source": [
    "my_str = \"university\"\n",
    "print(my_str.endswith(\"sity\"))\n",
    "print(my_str.endswith(\"ver\",0,6))\n",
    "print(my_str.endswith(\"ver\",3,10))"
   ]
  },
  {
   "cell_type": "code",
   "execution_count": null,
   "metadata": {},
   "outputs": [],
   "source": [
    "my_str = \"@@@@calcutta%%%\"\n",
    "print(my_str,len(my_str))\n",
    "print(my_str,my_str.lstrip(\"@\"),len(my_str.lstrip(\"@\")))\n",
    "print(my_str,my_str.rstrip(\"%\"),len(my_str.rstrip(\"%\")))\n",
    "print(my_str,my_str.strip(\"@%\"),len(my_str.strip(\"@%\")))\n"
   ]
  },
  {
   "cell_type": "code",
   "execution_count": null,
   "metadata": {},
   "outputs": [],
   "source": [
    "my_str = \" \"\n",
    "print(my_str.isspace())\n",
    "my_str = \" abc \"\n",
    "print(my_str.isspace())"
   ]
  },
  {
   "cell_type": "code",
   "execution_count": null,
   "metadata": {},
   "outputs": [],
   "source": [
    "my_str = \"Happy New Year 2018\"\n",
    "print(my_str)\n",
    "print(my_str.replace(\"2018\",\"2019\"))"
   ]
  },
  {
   "cell_type": "code",
   "execution_count": null,
   "metadata": {},
   "outputs": [],
   "source": [
    "my_str = \"Wishing You a Happy New Year\"\n",
    "my_list = my_str.split(\" \")\n",
    "print(my_list)\n",
    "for i in my_list:\n",
    "    print(i)"
   ]
  },
  {
   "cell_type": "code",
   "execution_count": null,
   "metadata": {},
   "outputs": [],
   "source": [
    "#take a binary no as string as input ...calculate its decimal equivalent\n"
   ]
  },
  {
   "cell_type": "code",
   "execution_count": null,
   "metadata": {},
   "outputs": [],
   "source": [
    "import math\n",
    "n = input(\"Enter binary no:\")\n",
    "l = list(n)\n",
    "n_len = len(n)\n",
    "sum = 0 \n",
    "for i in range(0,n_len):\n",
    "    sum = sum + int(n[i]) * math.pow(2,len(n)-i-1)\n",
    "print(sum)\n",
    "\n"
   ]
  },
  {
   "cell_type": "code",
   "execution_count": null,
   "metadata": {},
   "outputs": [],
   "source": [
    "import math\n",
    "n = input(\"Enter binary no:\")\n",
    "l = list(n)\n",
    "length = len(l)\n",
    "sum = 0\n",
    "for i in range(0,length):\n",
    "    sum = sum + int(l[i]) * math.pow(2,len(l)-i-1)\n",
    "print(sum)"
   ]
  },
  {
   "cell_type": "code",
   "execution_count": null,
   "metadata": {},
   "outputs": [],
   "source": [
    "s = \"sister is good\"\n",
    "l = s.split(\" \")\n",
    "print(l)"
   ]
  },
  {
   "cell_type": "code",
   "execution_count": null,
   "metadata": {},
   "outputs": [],
   "source": [
    "print(\" \".join(l))"
   ]
  },
  {
   "cell_type": "code",
   "execution_count": null,
   "metadata": {},
   "outputs": [],
   "source": [
    "#Start of 3rd class...... Bring it on"
   ]
  },
  {
   "cell_type": "code",
   "execution_count": null,
   "metadata": {},
   "outputs": [],
   "source": [
    "## DEALING WITH FUNCTIONS"
   ]
  },
  {
   "cell_type": "code",
   "execution_count": null,
   "metadata": {},
   "outputs": [],
   "source": [
    "def my_addition(num1,num2):\n",
    "    result = num1 + num2\n",
    "    print(\"Performing the addition operation...\")\n",
    "    return(result)\n",
    "data1 = int(input(\"Enter the first number:\"))\n",
    "data2 = int(input(\"Enter the second number\"))\n",
    "print(\"Sum is\",my_addition(data1,data2))\n",
    "    "
   ]
  },
  {
   "cell_type": "code",
   "execution_count": null,
   "metadata": {},
   "outputs": [],
   "source": [
    "# With single return statement we can return multiple values in python\n",
    "\n",
    "def my_calculation(data1,data2):\n",
    "    print(\"Performing four major calculations...\")\n",
    "    return data1+data2,data1-data2,data1*data2,data1/data2\n",
    "d1 = int(input(\"Enter the first number:\"))\n",
    "d2 = int(input(\"Enter the second number\"))\n",
    "print(my_calculation(d1,d2)) #will return the output in tuples\n",
    "s,d,p,q=my_calculation(d1,d2)\n",
    "print(s,d,p,q)\n",
    "\n"
   ]
  },
  {
   "cell_type": "code",
   "execution_count": null,
   "metadata": {},
   "outputs": [],
   "source": [
    "# Dealing with default arguments...\n",
    "\n",
    "def my_function(arg1=222,arg2=110,arg3=333):\n",
    "    print(arg1,arg2,arg3)\n",
    "\n",
    "my_function(200,100,300)\n",
    "my_function(200,100)\n",
    "my_function(200)\n",
    "my_function()\n",
    "my_function(arg2=20,arg3=30,arg1=10)\n",
    "my_function(arg3=30,arg1=10)"
   ]
  },
  {
   "cell_type": "code",
   "execution_count": null,
   "metadata": {},
   "outputs": [],
   "source": [
    "#dealing with default arguments\n",
    "\n",
    "def my_function(arg1,arg2=None):\n",
    "    print(arg1)\n",
    "    if(arg2 is not None):\n",
    "        print(arg2)\n",
    "my_function(100,200)\n",
    "print(\"-----------------------------------\")\n",
    "my_function(100)\n"
   ]
  },
  {
   "cell_type": "code",
   "execution_count": 26,
   "metadata": {},
   "outputs": [
    {
     "name": "stdin",
     "output_type": "stream",
     "text": [
      "Enter the number: 5\n"
     ]
    },
    {
     "name": "stdout",
     "output_type": "stream",
     "text": [
      "Factorial of  5  is  120\n"
     ]
    }
   ],
   "source": [
    "#Dealing with recursion\n",
    "\n",
    "#Factorial using non-recusrsion\n",
    "def fact_cal_nr(num):\n",
    "    fact = 1\n",
    "    for i in range(1,num+1):\n",
    "        fact*=i\n",
    "    return fact\n",
    "\n",
    "d = int(input(\"Enter the number:\"))\n",
    "t = fact_cal_nr(d)\n",
    "print(\"Factorial of \",d,\" is \",t)"
   ]
  },
  {
   "cell_type": "code",
   "execution_count": 38,
   "metadata": {},
   "outputs": [
    {
     "name": "stdin",
     "output_type": "stream",
     "text": [
      "Enter the number: 5\n"
     ]
    },
    {
     "name": "stdout",
     "output_type": "stream",
     "text": [
      "Factorial of  5  is  48\n"
     ]
    }
   ],
   "source": [
    "#Factorial using non-recusrsion\n",
    "\n",
    "'''def fact_cal_nr(num):\n",
    "    fact = 2 #loop will run for num-1 no of times\n",
    "    for i in range(1,num):\n",
    "        fact*=i\n",
    "    return fact\n",
    "\n",
    "d = int(input(\"Enter the number:\"))\n",
    "t = fact_cal_nr(d)\n",
    "print(\"Factorial of \",d,\" is \",t)'''"
   ]
  },
  {
   "cell_type": "code",
   "execution_count": 30,
   "metadata": {},
   "outputs": [
    {
     "name": "stdout",
     "output_type": "stream",
     "text": [
      "120\n"
     ]
    }
   ],
   "source": [
    "#Factorial using recursion\n",
    "\n",
    "def fact_cal_r(n):\n",
    "    if n == 0 or  n == 1:\n",
    "        return 1\n",
    "    else:\n",
    "        return n * fact_cal_r(n-1)\n",
    "\n",
    "print(fact_cal_r(5))\n"
   ]
  },
  {
   "cell_type": "code",
   "execution_count": 32,
   "metadata": {},
   "outputs": [
    {
     "name": "stdout",
     "output_type": "stream",
     "text": [
      "Non Recursive version executing.....\n",
      "120\n",
      "Recursive version executing...\n",
      "120\n"
     ]
    }
   ],
   "source": [
    "def fact_calculation(num,choice):\n",
    "    if(choice == \"r\"):\n",
    "        print(\"Recursive version executing...\")\n",
    "        print(fact_cal_r(num))\n",
    "    else:\n",
    "        print(\"Non Recursive version executing.....\")\n",
    "        print(fact_cal_nr(num))\n",
    "fact_calculation(5,\"nr\")\n",
    "fact_calculation(5,\"r\")"
   ]
  },
  {
   "cell_type": "code",
   "execution_count": 34,
   "metadata": {},
   "outputs": [
    {
     "name": "stdout",
     "output_type": "stream",
     "text": [
      "16\n"
     ]
    }
   ],
   "source": [
    "# Lambda function \n",
    "# single statement function\n",
    "\n",
    "sqr_func = lambda x1: x1 * x1\n",
    "print(sqr_func(4))"
   ]
  },
  {
   "cell_type": "code",
   "execution_count": 35,
   "metadata": {},
   "outputs": [
    {
     "name": "stdout",
     "output_type": "stream",
     "text": [
      "300\n"
     ]
    }
   ],
   "source": [
    "add_func = lambda a,b: a + b\n",
    "print(add_func(100,200))"
   ]
  },
  {
   "cell_type": "code",
   "execution_count": 40,
   "metadata": {},
   "outputs": [
    {
     "name": "stdout",
     "output_type": "stream",
     "text": [
      "True\n",
      "False\n",
      "True\n"
     ]
    }
   ],
   "source": [
    "outcome = 5 > 4 or 7 > 8\n",
    "print(outcome)\n",
    "outcome = 5 > 4 and 7 > 8\n",
    "print(outcome)\n",
    "outcome = 5 > 4 and 17 > 8\n",
    "print(outcome)\n",
    "\n"
   ]
  },
  {
   "cell_type": "code",
   "execution_count": 47,
   "metadata": {},
   "outputs": [
    {
     "name": "stdout",
     "output_type": "stream",
     "text": [
      "250 150 146\n",
      "250 150 254\n",
      "250 150 108\n",
      "250 -251\n"
     ]
    }
   ],
   "source": [
    "a = 250\n",
    "b = 150\n",
    "print(a,b,a & b)\n",
    "print(a,b,a | b)\n",
    "print(a,b,a ^b)\n",
    "print(a,~a)\n",
    "\n",
    "# 250 = 128 + 64 + 32 + 16 + 8 + 2 = 1111 1010\n",
    "# 150 = 128 + 16 + 4 + 2           = 1001 0110\n",
    "                               # ----------------- \n",
    "#                            And      1001 0010 = 146\n",
    "\n",
    "#250 = 128 + 64 + 32 + 16 + 8 + 2 =  1111 1010\n",
    "# 150 = 128 + 16 + 4 + 2          =  1001 0110\n",
    "                               # ----------------- \n",
    "#                            OR    1111 1110 = 254\n",
    "\n",
    "#250 = 128 + 64 + 32 + 16 + 8 + 2 = 1111 1010\n",
    "# 150 = 128 + 16 + 4 + 2          = 1001 0110\n",
    "                               # ----------------- \n",
    "#                            XOR    0110 1100 = 108\n",
    "\n",
    "#250 = 128 + 64 + 32 + 16 + 8 + 2 = 1111 1010\n",
    "# 1's complement                 =  0000 0101\n",
    "# 2's complement                 =  0000 0001\n",
    "#------------------------------------------------------\n",
    "# ADD                            =  0000 0110\n"
   ]
  },
  {
   "cell_type": "code",
   "execution_count": 54,
   "metadata": {},
   "outputs": [
    {
     "name": "stdout",
     "output_type": "stream",
     "text": [
      "first item: juice\n",
      "['juice', 'tomatoes', 'potatoes', 'bananas']\n",
      "['tomatoes', 'potatoes']\n",
      "['tomatoes', 'potatoes']\n"
     ]
    }
   ],
   "source": [
    "#Dealing with list\n",
    "\n",
    "grocery_list = [\"juice\",\"tomatoes\",\"potatoes\",\"bananas\"]\n",
    "print(\"first item:\",grocery_list[0])\n",
    "print(grocery_list)\n",
    "print(grocery_list[1:3])\n",
    "print(grocery_list[-3:3])"
   ]
  },
  {
   "cell_type": "code",
   "execution_count": 72,
   "metadata": {},
   "outputs": [
    {
     "name": "stdout",
     "output_type": "stream",
     "text": [
      "['juice', 'tomatoes', 'potatoes', 'bananas']\n",
      "['car wash', 'car drive', 'walk', 'sleep']\n",
      "Using + operator-------\n",
      "['juice', 'tomatoes', 'potatoes', 'bananas', 'car wash', 'car drive', 'walk', 'sleep']\n",
      "8\n",
      "[['juice', 'tomatoes', 'potatoes', 'bananas'], ['car wash', 'car drive', 'walk', 'sleep']]\n",
      "2\n",
      "----------------------------------------------\n",
      "juice\n",
      "tomatoes\n",
      "potatoes\n",
      "bananas\n",
      "-----------------------------------------------\n",
      "[['juice', 'tomatoes', 'potatoes', 'bananas'], ['car wash', 'car drive', 'walk', 'sleep']]\n",
      "\n",
      "---------------to_do_list---------------------\n",
      "\n",
      "['juice', 'tomatoes', 'potatoes', 'bananas']\n",
      "juice\n",
      "tomatoes\n",
      "potatoes\n",
      "bananas\n",
      "['car wash', 'car drive', 'walk', 'sleep']\n",
      "car wash\n",
      "car drive\n",
      "walk\n",
      "sleep\n"
     ]
    }
   ],
   "source": [
    "grocery_list = [\"juice\",\"tomatoes\",\"potatoes\",\"bananas\"]\n",
    "other_events = [\"car wash\",\"car drive\",\"walk\",\"sleep\"]\n",
    "print(grocery_list)\n",
    "print(other_events)\n",
    "print(\"Using + operator-------\")\n",
    "to_do_list = grocery_list + other_events\n",
    "print(to_do_list)\n",
    "print(len(to_do_list))\n",
    "#print(\"Using extend keyword---------\")\n",
    "#grocery_list.extend(other_events)\n",
    "#print(grocery_list)\n",
    "#print(\"-----------------------------------\")\n",
    "to_do_list = [grocery_list,other_events]\n",
    "print(to_do_list)\n",
    "print(len(to_do_list))\n",
    "print(\"----------------------------------------------\")\n",
    "for i in grocery_list:\n",
    "    print(i)\n",
    "print(\"-----------------------------------------------\")\n",
    "print(to_do_list)\n",
    "\n",
    "print(\"\\n---------------to_do_list---------------------\\n\")\n",
    "for i in to_do_list:\n",
    "    print(i)\n",
    "    for j in i:\n",
    "        print(j)\n"
   ]
  },
  {
   "cell_type": "code",
   "execution_count": 75,
   "metadata": {},
   "outputs": [
    {
     "name": "stdout",
     "output_type": "stream",
     "text": [
      "['car wash', 'car drive', 'walk', 'sleep']\n",
      "['car drive', 'walk']\n"
     ]
    }
   ],
   "source": [
    "print(to_do_list[1])\n",
    "print(to_do_list[1][1:3])"
   ]
  },
  {
   "cell_type": "code",
   "execution_count": 85,
   "metadata": {},
   "outputs": [
    {
     "name": "stdout",
     "output_type": "stream",
     "text": [
      "['juice', 'tomatoes', 'potatoes', 'bananas', 'onion']\n",
      "\n",
      "----------------Appending function----------------------\n",
      "\n",
      "['juice', 'tomatoes', 'potatoes', 'bananas', 'onion', 'onion']\n"
     ]
    }
   ],
   "source": [
    "#list functions\n",
    "\n",
    "print(grocery_list)\n",
    "print(\"\\n----------------Appending function----------------------\\n\")\n",
    "grocery_list.append(\"onion\")\n",
    "print(grocery_list)\n",
    "\n"
   ]
  },
  {
   "cell_type": "code",
   "execution_count": 82,
   "metadata": {},
   "outputs": [
    {
     "name": "stdout",
     "output_type": "stream",
     "text": [
      "\n",
      "----------------Insert function----------------------\n",
      "\n",
      "['juice', 'pickle', 'tomatoes', 'potatoes', 'bananas', 'onion', 'onion', 'onion']\n"
     ]
    }
   ],
   "source": [
    "print(\"\\n----------------Insert function----------------------\\n\")\n",
    "grocery_list.insert(1,\"pickle\")\n",
    "print(grocery_list)\n"
   ]
  },
  {
   "cell_type": "code",
   "execution_count": 90,
   "metadata": {},
   "outputs": [
    {
     "name": "stdout",
     "output_type": "stream",
     "text": [
      "\n",
      "----------------Remove function----------------------\n",
      "\n",
      "['juice', 'tomatoes', 'potatoes', 'bananas']\n"
     ]
    }
   ],
   "source": [
    "print(\"\\n----------------Remove function----------------------\\n\")\n",
    "#grocery_list.remove(\"pickle\")\n",
    "grocery_list.remove(\"onion\")\n",
    "print(grocery_list)"
   ]
  },
  {
   "cell_type": "code",
   "execution_count": 89,
   "metadata": {},
   "outputs": [
    {
     "name": "stdout",
     "output_type": "stream",
     "text": [
      "['amit', '100', 'accountant', 'belgharia']\n",
      "\n",
      "---------------Ascending order-----------------\n",
      "\n",
      "['100', 'accountant', 'amit', 'belgharia']\n",
      "\n",
      "---------------Rerversing----------------------\n",
      "\n",
      "['belgharia', 'amit', 'accountant', '100']\n"
     ]
    }
   ],
   "source": [
    "my_list1 = [\"amit\",\"100\",\"accountant\",\"belgharia\"]\n",
    "print(my_list1)\n",
    "print(\"\\n---------------Ascending order-----------------\\n\")\n",
    "my_list1.sort()\n",
    "print(my_list1)\n",
    "print(\"\\n---------------Rerversing----------------------\\n\")\n",
    "my_list1.reverse()\n",
    "print(my_list1)"
   ]
  },
  {
   "cell_type": "code",
   "execution_count": 97,
   "metadata": {},
   "outputs": [
    {
     "name": "stdout",
     "output_type": "stream",
     "text": [
      "['amit', '100', 'belgharia']\n"
     ]
    }
   ],
   "source": [
    "#REMOVING ITEMS FROM LIST. THERE ARE TWO WAYS:\n",
    "#1. DELETE 2. REMOVE\n",
    "\n",
    "my_list1 = [\"amit\",\"100\",\"accountant\",\"belgharia\"]\n",
    "my_list1.remove(\"accountant\")\n",
    "print(my_list1)\n"
   ]
  },
  {
   "cell_type": "code",
   "execution_count": null,
   "metadata": {},
   "outputs": [],
   "source": [
    "#Using delete function\n",
    "\n",
    "my_list1 = [\"amit\",\"100\",\"accountant\",\"belgharia\"]\n",
    "del my_list1[2]\n",
    "print(my_list1)"
   ]
  },
  {
   "cell_type": "code",
   "execution_count": 101,
   "metadata": {},
   "outputs": [
    {
     "name": "stdout",
     "output_type": "stream",
     "text": [
      "(1, 2, 'amit', 'male', 34)\n",
      "amit\n"
     ]
    }
   ],
   "source": [
    "# Dealing with Tuples\n",
    "# Tuples are immutable and enclosed in {} \n",
    "# Enhances data security\n",
    "\n",
    "my_tuple = (1,2,\"amit\",\"male\",34)\n",
    "print(my_tuple)\n",
    "print(my_tuple[2])\n",
    "# my_tuple[2] = \"amitava\" TypeError, cannot be updated because it is immutable"
   ]
  },
  {
   "cell_type": "code",
   "execution_count": 104,
   "metadata": {},
   "outputs": [
    {
     "name": "stdout",
     "output_type": "stream",
     "text": [
      "(1, 2, 'amitava', 'male', 34)\n"
     ]
    }
   ],
   "source": [
    "my_list = list(my_tuple)\n",
    "my_list[2] = \"amitava\"\n",
    "my_tuple = tuple(my_list)\n",
    "print(my_tuple)"
   ]
  },
  {
   "cell_type": "code",
   "execution_count": 105,
   "metadata": {},
   "outputs": [
    {
     "name": "stdout",
     "output_type": "stream",
     "text": [
      "6 99 22\n",
      "6 99 22\n"
     ]
    }
   ],
   "source": [
    "my_tuple = (44,22,66,88,55,99)\n",
    "my_list = [44,22,66,88,55,99]\n",
    "print(len(my_tuple),max(my_tuple),min(my_tuple))\n",
    "print(len(my_list),max(my_list),min(my_list))"
   ]
  },
  {
   "cell_type": "code",
   "execution_count": 119,
   "metadata": {},
   "outputs": [],
   "source": [
    "# Dealing with Dictionaries\n",
    "#Key-value pairs\n",
    "diction_fruit = {\"banana\":\"yellow\",\n",
    "                 \"apple\":\"red\",\n",
    "                 \"guava\":\"green\",\n",
    "                 \"grape\":\"black\",\n",
    "                 \"orange\":\"orange\"}"
   ]
  },
  {
   "cell_type": "code",
   "execution_count": 120,
   "metadata": {},
   "outputs": [
    {
     "name": "stdout",
     "output_type": "stream",
     "text": [
      "{'banana': 'yellow', 'apple': 'red', 'guava': 'green', 'grape': 'black', 'orange': 'orange'}\n"
     ]
    }
   ],
   "source": [
    "print(diction_fruit)"
   ]
  },
  {
   "cell_type": "code",
   "execution_count": 121,
   "metadata": {},
   "outputs": [
    {
     "name": "stdout",
     "output_type": "stream",
     "text": [
      "dict_keys(['banana', 'apple', 'guava', 'grape', 'orange'])\n"
     ]
    }
   ],
   "source": [
    "print(diction_fruit.keys())"
   ]
  },
  {
   "cell_type": "code",
   "execution_count": 122,
   "metadata": {},
   "outputs": [
    {
     "name": "stdout",
     "output_type": "stream",
     "text": [
      "dict_values(['yellow', 'red', 'green', 'black', 'orange'])\n"
     ]
    }
   ],
   "source": [
    "print(diction_fruit.values())"
   ]
  },
  {
   "cell_type": "code",
   "execution_count": 123,
   "metadata": {},
   "outputs": [
    {
     "name": "stdout",
     "output_type": "stream",
     "text": [
      "dict_items([('banana', 'yellow'), ('apple', 'red'), ('guava', 'green'), ('grape', 'black'), ('orange', 'orange')])\n"
     ]
    }
   ],
   "source": [
    "print(diction_fruit.items())"
   ]
  },
  {
   "cell_type": "code",
   "execution_count": 124,
   "metadata": {},
   "outputs": [
    {
     "name": "stdout",
     "output_type": "stream",
     "text": [
      "['banana', 'apple', 'guava', 'grape', 'orange']\n",
      "[('banana', 'yellow'), ('apple', 'red'), ('guava', 'green'), ('grape', 'black'), ('orange', 'orange')]\n"
     ]
    }
   ],
   "source": [
    "my_list = list(diction_fruit)\n",
    "print(my_list)\n",
    "my_list = list(diction_fruit.items())\n",
    "print(my_list)\n"
   ]
  },
  {
   "cell_type": "code",
   "execution_count": 125,
   "metadata": {},
   "outputs": [
    {
     "name": "stdout",
     "output_type": "stream",
     "text": [
      "('guava', 'green')\n"
     ]
    }
   ],
   "source": [
    "print(my_list[2])"
   ]
  },
  {
   "cell_type": "code",
   "execution_count": 126,
   "metadata": {},
   "outputs": [
    {
     "name": "stdout",
     "output_type": "stream",
     "text": [
      "{'banana': 'yellow', 'apple': 'red', 'guava': 'green', 'grape': 'black', 'orange': 'orange'}\n",
      "green\n",
      "green\n"
     ]
    }
   ],
   "source": [
    "print(diction_fruit)\n",
    "print(diction_fruit[\"guava\"])\n",
    "print(diction_fruit.get(\"guava\")) #get method\n",
    "# print(diction_fruit[\"pineapple\"]) key doesnt exist"
   ]
  },
  {
   "cell_type": "code",
   "execution_count": 127,
   "metadata": {},
   "outputs": [
    {
     "name": "stdout",
     "output_type": "stream",
     "text": [
      "{'banana': 'yellow', 'apple': 'red', 'guava': 'green', 'grape': 'black', 'orange': 'orange'}\n",
      "{'banana': 'yellow', 'apple': 'red', 'guava': 'green', 'grape': 'green', 'orange': 'orange'}\n",
      "{'banana': 'yellow', 'apple': 'red', 'guava': 'green', 'grape': 'green', 'orange': 'orange', 'mango': 'yellow'}\n"
     ]
    }
   ],
   "source": [
    "print(diction_fruit)\n",
    "diction_fruit[\"grape\"] = \"green\"\n",
    "print(diction_fruit)\n",
    "diction_fruit[\"mango\"] = \"yellow\"\n",
    "print(diction_fruit)\n"
   ]
  },
  {
   "cell_type": "code",
   "execution_count": 128,
   "metadata": {},
   "outputs": [
    {
     "name": "stdout",
     "output_type": "stream",
     "text": [
      "{'banana': 'yellow', 'apple': 'red', 'guava': 'green', 'grape': 'green', 'orange': 'orange', 'mango': 'yellow'}\n",
      "{'banana': 'yellow', 'apple': 'red', 'guava': 'green', 'orange': 'orange', 'mango': 'yellow'}\n"
     ]
    }
   ],
   "source": [
    "print(diction_fruit)\n",
    "del diction_fruit[\"grape\"] #delete that particular key\n",
    "print(diction_fruit)"
   ]
  },
  {
   "cell_type": "code",
   "execution_count": 129,
   "metadata": {},
   "outputs": [
    {
     "name": "stdout",
     "output_type": "stream",
     "text": [
      "{'banana': 'yellow', 'apple': 'red', 'guava': 'green', 'orange': 'orange', 'mango': 'yellow'}\n",
      "{}\n"
     ]
    }
   ],
   "source": [
    "print(diction_fruit)\n",
    "diction_fruit.clear()  #clear the entire dictionary\n",
    "print(diction_fruit)"
   ]
  },
  {
   "cell_type": "code",
   "execution_count": null,
   "metadata": {},
   "outputs": [],
   "source": [
    "print(diction_fruit)\n",
    "del diction_fruit  #clear the entire dictionary\n",
    "print(diction_fruit)"
   ]
  },
  {
   "cell_type": "code",
   "execution_count": 138,
   "metadata": {},
   "outputs": [
    {
     "name": "stdout",
     "output_type": "stream",
     "text": [
      "{'banana': 'yellow', 'apple': 'red', 'guava': 'green', 'grape': 'black', 'orange': 'orange'}\n"
     ]
    }
   ],
   "source": [
    "diction_fruit = {\"banana\":\"yellow\",\n",
    "                 \"apple\":\"red\",\n",
    "                 \"guava\":\"green\",\n",
    "                 \"grape\":\"black\",\n",
    "                 \"orange\":\"orange\"}\n",
    "print(diction_fruit)"
   ]
  },
  {
   "cell_type": "code",
   "execution_count": 139,
   "metadata": {},
   "outputs": [
    {
     "ename": "KeyError",
     "evalue": "'pineapple'",
     "output_type": "error",
     "traceback": [
      "\u001b[1;31m---------------------------------------------------------------------------\u001b[0m",
      "\u001b[1;31mKeyError\u001b[0m                                  Traceback (most recent call last)",
      "\u001b[1;32m<ipython-input-139-3c679b8f0ac2>\u001b[0m in \u001b[0;36m<module>\u001b[1;34m()\u001b[0m\n\u001b[1;32m----> 1\u001b[1;33m \u001b[0mprint\u001b[0m\u001b[1;33m(\u001b[0m\u001b[0mdiction_fruit\u001b[0m\u001b[1;33m[\u001b[0m\u001b[1;34m\"pineapple\"\u001b[0m\u001b[1;33m]\u001b[0m\u001b[1;33m)\u001b[0m\u001b[1;33m\u001b[0m\u001b[0m\n\u001b[0m",
      "\u001b[1;31mKeyError\u001b[0m: 'pineapple'"
     ]
    }
   ],
   "source": [
    "print(diction_fruit[\"pineapple\"])"
   ]
  },
  {
   "cell_type": "code",
   "execution_count": 140,
   "metadata": {},
   "outputs": [
    {
     "name": "stdout",
     "output_type": "stream",
     "text": [
      "Error  'pineapple'  occured..\n"
     ]
    }
   ],
   "source": [
    "try:\n",
    "    print(diction_fruit[\"pineapple\"])\n",
    "except KeyError as e:\n",
    "    print(\"Error \",e,\" occured..\")"
   ]
  },
  {
   "cell_type": "code",
   "execution_count": 147,
   "metadata": {},
   "outputs": [
    {
     "name": "stdout",
     "output_type": "stream",
     "text": [
      "{'r', 'python', 'java'}\n",
      "{'cobra', 'viper', 'python'}\n"
     ]
    }
   ],
   "source": [
    "#Dealing with sets \n",
    "# unordered\n",
    "# unique values\n",
    "#creating with empty set\n",
    "empty_set = set()\n",
    "\n",
    "#creating a non empty set\n",
    "languages = {\"python\",\"r\",\"java\"}\n",
    "#creating a set from a list\n",
    "snakes = set ([\"cobra\",\"viper\",\"python\"])\n",
    "print(languages)\n",
    "print(snakes)\n"
   ]
  },
  {
   "cell_type": "code",
   "execution_count": 143,
   "metadata": {},
   "outputs": [
    {
     "data": {
      "text/plain": [
       "3"
      ]
     },
     "execution_count": 143,
     "metadata": {},
     "output_type": "execute_result"
    }
   ],
   "source": [
    "len(languages)"
   ]
  },
  {
   "cell_type": "code",
   "execution_count": 145,
   "metadata": {},
   "outputs": [
    {
     "data": {
      "text/plain": [
       "True"
      ]
     },
     "execution_count": 145,
     "metadata": {},
     "output_type": "execute_result"
    }
   ],
   "source": [
    "\"python\" in languages # set membership operators"
   ]
  },
  {
   "cell_type": "code",
   "execution_count": 146,
   "metadata": {},
   "outputs": [
    {
     "data": {
      "text/plain": [
       "True"
      ]
     },
     "execution_count": 146,
     "metadata": {},
     "output_type": "execute_result"
    }
   ],
   "source": [
    "\"cobra\" in snakes"
   ]
  },
  {
   "cell_type": "code",
   "execution_count": 148,
   "metadata": {},
   "outputs": [
    {
     "data": {
      "text/plain": [
       "{'java', 'python', 'r'}"
      ]
     },
     "execution_count": 148,
     "metadata": {},
     "output_type": "execute_result"
    }
   ],
   "source": [
    "languages\n"
   ]
  },
  {
   "cell_type": "code",
   "execution_count": 149,
   "metadata": {},
   "outputs": [
    {
     "data": {
      "text/plain": [
       "{'cobra', 'python', 'viper'}"
      ]
     },
     "execution_count": 149,
     "metadata": {},
     "output_type": "execute_result"
    }
   ],
   "source": [
    "snakes"
   ]
  },
  {
   "cell_type": "code",
   "execution_count": 159,
   "metadata": {},
   "outputs": [
    {
     "name": "stdout",
     "output_type": "stream",
     "text": [
      "{'python'}\n",
      "{'python'}\n"
     ]
    }
   ],
   "source": [
    "print(languages & snakes)\n",
    "print(languages.intersection(snakes))"
   ]
  },
  {
   "cell_type": "code",
   "execution_count": 158,
   "metadata": {},
   "outputs": [
    {
     "name": "stdout",
     "output_type": "stream",
     "text": [
      "{'cobra', 'r', 'viper', 'python', 'java'}\n",
      "{'cobra', 'r', 'viper', 'python', 'java'}\n"
     ]
    }
   ],
   "source": [
    "print(languages | snakes)\n",
    "print(languages.union(snakes))         # \\ = union"
   ]
  },
  {
   "cell_type": "code",
   "execution_count": 166,
   "metadata": {},
   "outputs": [
    {
     "name": "stdout",
     "output_type": "stream",
     "text": [
      "{'r', 'sql', 'python', 'java'}\n"
     ]
    }
   ],
   "source": [
    "languages.add(\"sql\")\n",
    "languages.add(\"r\")\n",
    "print(languages)"
   ]
  },
  {
   "cell_type": "code",
   "execution_count": 167,
   "metadata": {},
   "outputs": [
    {
     "name": "stdout",
     "output_type": "stream",
     "text": [
      "{'r', 'sql', 'java'}\n",
      "{'r', 'sql', 'java'}\n",
      "{'java', 'cobra', 'r', 'sql', 'viper'}\n"
     ]
    }
   ],
   "source": [
    "print(languages - snakes)\n",
    "print(languages.difference(snakes))\n",
    "print(languages.symmetric_difference(snakes))"
   ]
  },
  {
   "cell_type": "code",
   "execution_count": 168,
   "metadata": {},
   "outputs": [
    {
     "name": "stdout",
     "output_type": "stream",
     "text": [
      "{'r', 'python', 'java'}\n"
     ]
    }
   ],
   "source": [
    "languages.remove(\"sql\")\n",
    "print(languages)"
   ]
  },
  {
   "cell_type": "code",
   "execution_count": 169,
   "metadata": {},
   "outputs": [
    {
     "name": "stdout",
     "output_type": "stream",
     "text": [
      "Error  'c++'\n"
     ]
    }
   ],
   "source": [
    "try:\n",
    "    languages.remove(\"c++\")\n",
    "except KeyError as e:\n",
    "    print(\"Error \",e)"
   ]
  },
  {
   "cell_type": "code",
   "execution_count": 170,
   "metadata": {},
   "outputs": [
    {
     "name": "stdout",
     "output_type": "stream",
     "text": [
      "{'r', 'python', 'java'}\n"
     ]
    }
   ],
   "source": [
    "print(languages)"
   ]
  },
  {
   "cell_type": "code",
   "execution_count": 171,
   "metadata": {},
   "outputs": [
    {
     "ename": "KeyError",
     "evalue": "'c++'",
     "output_type": "error",
     "traceback": [
      "\u001b[1;31m---------------------------------------------------------------------------\u001b[0m",
      "\u001b[1;31mKeyError\u001b[0m                                  Traceback (most recent call last)",
      "\u001b[1;32m<ipython-input-171-48a35ce432ad>\u001b[0m in \u001b[0;36m<module>\u001b[1;34m()\u001b[0m\n\u001b[1;32m----> 1\u001b[1;33m \u001b[0mlanguages\u001b[0m\u001b[1;33m.\u001b[0m\u001b[0mremove\u001b[0m\u001b[1;33m(\u001b[0m\u001b[1;34m\"c++\"\u001b[0m\u001b[1;33m)\u001b[0m\u001b[1;33m\u001b[0m\u001b[0m\n\u001b[0m",
      "\u001b[1;31mKeyError\u001b[0m: 'c++'"
     ]
    }
   ],
   "source": [
    "languages.remove(\"c++\")"
   ]
  },
  {
   "cell_type": "code",
   "execution_count": 172,
   "metadata": {},
   "outputs": [],
   "source": [
    "languages.add(\"sql\")"
   ]
  },
  {
   "cell_type": "code",
   "execution_count": 173,
   "metadata": {},
   "outputs": [
    {
     "data": {
      "text/plain": [
       "{'java', 'python', 'r', 'sql'}"
      ]
     },
     "execution_count": 173,
     "metadata": {},
     "output_type": "execute_result"
    }
   ],
   "source": [
    "languages\n"
   ]
  },
  {
   "cell_type": "code",
   "execution_count": 176,
   "metadata": {},
   "outputs": [
    {
     "name": "stdout",
     "output_type": "stream",
     "text": [
      "{'sql', 'python', 'java'}\n"
     ]
    }
   ],
   "source": [
    "languages.discard(\"r\")  \n",
    "print(languages)"
   ]
  },
  {
   "cell_type": "code",
   "execution_count": 177,
   "metadata": {},
   "outputs": [],
   "source": [
    "languages.remove(\"sql\")"
   ]
  },
  {
   "cell_type": "code",
   "execution_count": 178,
   "metadata": {},
   "outputs": [
    {
     "name": "stdout",
     "output_type": "stream",
     "text": [
      "{'python', 'java'}\n"
     ]
    }
   ],
   "source": [
    "print(languages)"
   ]
  },
  {
   "cell_type": "code",
   "execution_count": 181,
   "metadata": {},
   "outputs": [],
   "source": [
    "languages.add(\"r\")\n",
    "languages.add(\"sql\")"
   ]
  },
  {
   "cell_type": "code",
   "execution_count": 182,
   "metadata": {},
   "outputs": [
    {
     "name": "stdout",
     "output_type": "stream",
     "text": [
      "{'r', 'sql', 'python', 'java'}\n"
     ]
    }
   ],
   "source": [
    "print(languages)"
   ]
  },
  {
   "cell_type": "code",
   "execution_count": 183,
   "metadata": {},
   "outputs": [
    {
     "data": {
      "text/plain": [
       "'r'"
      ]
     },
     "execution_count": 183,
     "metadata": {},
     "output_type": "execute_result"
    }
   ],
   "source": [
    "languages.pop()"
   ]
  },
  {
   "cell_type": "code",
   "execution_count": 184,
   "metadata": {},
   "outputs": [
    {
     "data": {
      "text/plain": [
       "{'java', 'python', 'sql'}"
      ]
     },
     "execution_count": 184,
     "metadata": {},
     "output_type": "execute_result"
    }
   ],
   "source": [
    "languages # r got deleted"
   ]
  },
  {
   "cell_type": "code",
   "execution_count": 185,
   "metadata": {},
   "outputs": [
    {
     "name": "stdout",
     "output_type": "stream",
     "text": [
      "set()\n"
     ]
    }
   ],
   "source": [
    "languages.clear()\n",
    "print (languages)"
   ]
  },
  {
   "cell_type": "code",
   "execution_count": 186,
   "metadata": {},
   "outputs": [
    {
     "name": "stdout",
     "output_type": "stream",
     "text": [
      "{'1', '2', '4', '3'}\n"
     ]
    }
   ],
   "source": [
    "languages.update(\"122\",\"344\")    ******\n",
    "print(languages)"
   ]
  },
  {
   "cell_type": "code",
   "execution_count": 187,
   "metadata": {},
   "outputs": [],
   "source": [
    "languages.update(\"go\",\"spark\")"
   ]
  },
  {
   "cell_type": "code",
   "execution_count": 188,
   "metadata": {},
   "outputs": [
    {
     "data": {
      "text/plain": [
       "{'1', '2', '3', '4', 'a', 'g', 'k', 'o', 'p', 'r', 's'}"
      ]
     },
     "execution_count": 188,
     "metadata": {},
     "output_type": "execute_result"
    }
   ],
   "source": [
    "languages"
   ]
  },
  {
   "cell_type": "code",
   "execution_count": 190,
   "metadata": {},
   "outputs": [
    {
     "data": {
      "text/plain": [
       "[0, 1, 2, 5, 9, 10]"
      ]
     },
     "execution_count": 190,
     "metadata": {},
     "output_type": "execute_result"
    }
   ],
   "source": [
    "sorted(set([9,0,2,1,0,10,5]))"
   ]
  },
  {
   "cell_type": "code",
   "execution_count": 191,
   "metadata": {},
   "outputs": [],
   "source": [
    "my_set = {\"amal\",80,\"rr\"}\n"
   ]
  },
  {
   "cell_type": "code",
   "execution_count": 192,
   "metadata": {},
   "outputs": [
    {
     "data": {
      "text/plain": [
       "{80, 'amal', 'rr'}"
      ]
     },
     "execution_count": 192,
     "metadata": {},
     "output_type": "execute_result"
    }
   ],
   "source": [
    "my_set"
   ]
  },
  {
   "cell_type": "code",
   "execution_count": 195,
   "metadata": {},
   "outputs": [
    {
     "data": {
      "text/plain": [
       "[45, 80, 90, 100, 145]"
      ]
     },
     "execution_count": 195,
     "metadata": {},
     "output_type": "execute_result"
    }
   ],
   "source": [
    "l = [80,100,90,45,145,90]\n",
    "s = set(l)\n",
    "sorted(s)"
   ]
  },
  {
   "cell_type": "code",
   "execution_count": null,
   "metadata": {},
   "outputs": [],
   "source": []
  }
 ],
 "metadata": {
  "kernelspec": {
   "display_name": "Python 3",
   "language": "python",
   "name": "python3"
  },
  "language_info": {
   "codemirror_mode": {
    "name": "ipython",
    "version": 3
   },
   "file_extension": ".py",
   "mimetype": "text/x-python",
   "name": "python",
   "nbconvert_exporter": "python",
   "pygments_lexer": "ipython3",
   "version": "3.7.0"
  }
 },
 "nbformat": 4,
 "nbformat_minor": 2
}
